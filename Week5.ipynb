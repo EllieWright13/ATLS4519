{
  "nbformat": 4,
  "nbformat_minor": 0,
  "metadata": {
    "colab": {
      "name": "Week5.ipynb",
      "provenance": [],
      "authorship_tag": "ABX9TyM2VxuCtoIkq48di0aQRjsP",
      "include_colab_link": true
    },
    "kernelspec": {
      "name": "python3",
      "display_name": "Python 3"
    },
    "language_info": {
      "name": "python"
    }
  },
  "cells": [
    {
      "cell_type": "markdown",
      "metadata": {
        "id": "view-in-github",
        "colab_type": "text"
      },
      "source": [
        "<a href=\"https://colab.research.google.com/github/EllieWright13/ATLS4519/blob/main/Week5.ipynb\" target=\"_parent\"><img src=\"https://colab.research.google.com/assets/colab-badge.svg\" alt=\"Open In Colab\"/></a>"
      ]
    },
    {
      "cell_type": "markdown",
      "source": [
        "# **DAY 13**"
      ],
      "metadata": {
        "id": "Qbe_lOP3_K1O"
      }
    },
    {
      "cell_type": "markdown",
      "source": [
        "### Impractical Project #35: Card Game"
      ],
      "metadata": {
        "id": "gUPF9n0r_OlH"
      }
    },
    {
      "cell_type": "markdown",
      "source": [
        "Objective: See https://dmoj.ca/problem/ccc99s1\n",
        "\n",
        "PSUEDOCODE:\n",
        "- "
      ],
      "metadata": {
        "id": "htNyYrkP_S4H"
      }
    },
    {
      "cell_type": "code",
      "execution_count": 1,
      "metadata": {
        "colab": {
          "base_uri": "https://localhost:8080/"
        },
        "id": "U8YlZZ45-7qx",
        "outputId": "2dedd95d-30a2-4924-e30c-11593c8630f0"
      },
      "outputs": [
        {
          "output_type": "stream",
          "name": "stdout",
          "text": [
            "player A scores 2 point\n",
            "player A scores 1 point\n",
            "player A scores 3 point\n",
            "player B scores 3 point\n",
            "player A scores 1 point\n",
            "player B scores 4 point\n",
            "PLAYER A: 7 point(s)\n",
            "PLAYER B: 7 point(s)\n"
          ]
        }
      ],
      "source": [
        "with open('deck.txt') as f:\n",
        "  deck = f.readlines()\n",
        "\n",
        "high_cards = ['jack','queen','king', 'ace']\n",
        "playerA = True\n",
        "counter = 0\n",
        "\n",
        "playerA_score = 0\n",
        "playerB_score = 0\n",
        "\n",
        "for card in deck:\n",
        "  card = card.strip()\n",
        "  if card in high_cards:\n",
        "    #print('high')\n",
        "    if card == 'jack' and (deck[counter+1].strip() not in high_cards):\n",
        "      if playerA == True:\n",
        "        print('player A scores 1 point')\n",
        "        playerA_score +=1\n",
        "      if playerA == False:\n",
        "        print('player B scores 1 point')\n",
        "        playerB_score +=1\n",
        "    elif card == 'queen' and (deck[counter+1].strip() not in high_cards) and (deck[counter+2].strip() not in high_cards):\n",
        "      if playerA == True:\n",
        "        print('player A scores 2 point')\n",
        "        playerA_score +=2\n",
        "      if playerA == False:\n",
        "        print('player B scores 2 point')\n",
        "        playerB_score +=2\n",
        "    elif card == 'king' and (deck[counter+1].strip() not in high_cards) and (deck[counter+2].strip() not in high_cards) and (deck[counter+3].strip() not in high_cards):\n",
        "      if playerA == True:\n",
        "        print('player A scores 3 point')\n",
        "        playerA_score +=3\n",
        "      if playerA == False:\n",
        "        print('player B scores 3 point')\n",
        "        playerB_score +=3\n",
        "    elif card == 'ace' and (deck[counter+1].strip() not in high_cards) and (deck[counter+2].strip() not in high_cards) and (deck[counter+3].strip() not in high_cards) and (deck[counter+4].strip() not in high_cards):\n",
        "      if playerA == True:\n",
        "        print('player A scores 4 point')\n",
        "        playerA_score +=4\n",
        "      if playerA == False:\n",
        "        print('player B scores 4 point')\n",
        "        playerB_score +=4\n",
        "      \n",
        "  counter += 1\n",
        "  playerA = not(playerA)\n",
        "\n",
        "print('PLAYER A:', playerA_score, 'point(s)')\n",
        "print('PLAYER B:', playerB_score, 'point(s)')"
      ]
    },
    {
      "cell_type": "markdown",
      "source": [
        "### Impractical Project #36: Cleaning a room"
      ],
      "metadata": {
        "id": "wpOg2tqmL3Mq"
      }
    },
    {
      "cell_type": "markdown",
      "source": [
        "Objective: See https://acm.timus.ru/problem.aspx?space=1&num=2144&locale=en\n",
        "\n",
        "PSUEDOCODE:\n"
      ],
      "metadata": {
        "id": "wJ9YzAiXL3IH"
      }
    },
    {
      "cell_type": "code",
      "source": [
        "def checkOne(action_figures):\n",
        "  for box in action_figures:\n",
        "    if box != sorted(box):\n",
        "      return False\n",
        "  return True\n",
        "\n",
        "def checkTwo(action_figures):\n",
        "  min_max_boxes= []\n",
        "  \n",
        "  for box in action_figures:\n",
        "    min = box[0]\n",
        "    max = box[-1]\n",
        "    min_max_boxes.append((min,max))\n",
        "  min_max_boxes.sort()\n",
        "\n",
        "  counter = 0\n",
        "  for box in min_max_boxes:\n",
        "    if (counter<len(min_max_boxes)-1) and (box[1] > min_max_boxes[counter+1][0]):\n",
        "      return False\n",
        "    counter +=1\n",
        "   \n",
        "  return True"
      ],
      "metadata": {
        "id": "6jjneaUjEjwZ"
      },
      "execution_count": 7,
      "outputs": []
    },
    {
      "cell_type": "code",
      "source": [
        "#action_figures = [[1,2], [7, 7, 7], [5]]\n",
        "#action_figures = [[1,3], [2]]\n",
        "action_figures = [[1,2], [2, 6], [5]]\n",
        "\n",
        "if checkOne(action_figures) == True and checkTwo(action_figures) == True:\n",
        "  print(\"YES\")\n",
        "else:\n",
        "  print(\"NO\")"
      ],
      "metadata": {
        "colab": {
          "base_uri": "https://localhost:8080/"
        },
        "id": "88fkjTE2UMg2",
        "outputId": "09aef337-5572-4398-acbe-22c247fbd898"
      },
      "execution_count": 8,
      "outputs": [
        {
          "output_type": "stream",
          "name": "stdout",
          "text": [
            "NO\n"
          ]
        }
      ]
    },
    {
      "cell_type": "markdown",
      "source": [
        "### Impractical Project #37: A choice..."
      ],
      "metadata": {
        "id": "A9tzCyLmWrLH"
      }
    },
    {
      "cell_type": "markdown",
      "source": [
        "Objective: https://dmoj.ca/problem/ccc13s1\n",
        "\n",
        "PSUEDOCODE:"
      ],
      "metadata": {
        "id": "ndEGNQooWq8Y"
      }
    },
    {
      "cell_type": "code",
      "source": [
        "num = 2019\n",
        "\n",
        "def distinctChecker(num):\n",
        "  x = [int(a) for a in str(num)]\n",
        "\n",
        "  for i in range(0, len(x)):\n",
        "    if x.pop() in x:\n",
        "      return(False)\n",
        "\n",
        "  return(True)\n",
        "\n",
        "def nextDistinct(num):\n",
        "  for i in range(num+1, 10000):\n",
        "    if distinctChecker(i):\n",
        "      return(i)\n",
        "    i += 1\n",
        "\n",
        "print(nextDistinct(num))"
      ],
      "metadata": {
        "colab": {
          "base_uri": "https://localhost:8080/"
        },
        "id": "-BGkNeqBaQUs",
        "outputId": "53ae364b-deac-44b1-e983-621e5217699e"
      },
      "execution_count": 11,
      "outputs": [
        {
          "output_type": "stream",
          "name": "stdout",
          "text": [
            "2031\n"
          ]
        }
      ]
    },
    {
      "cell_type": "code",
      "source": [
        ""
      ],
      "metadata": {
        "id": "CpzwpvWaWrxp"
      },
      "execution_count": 4,
      "outputs": []
    },
    {
      "cell_type": "markdown",
      "source": [
        "# **DAY 14**"
      ],
      "metadata": {
        "id": "3ZFX-6GNIzHg"
      }
    },
    {
      "cell_type": "markdown",
      "source": [
        "### Impractical Project #38: Sleepy Cow Herding"
      ],
      "metadata": {
        "id": "OxQ-4HUjI00U"
      }
    },
    {
      "cell_type": "markdown",
      "source": [
        "Objective: See http://www.usaco.org/index.php?page=viewproblem2&cpid=918"
      ],
      "metadata": {
        "id": "TGL6Rv84I0iy"
      }
    },
    {
      "cell_type": "code",
      "source": [
        "#bronze problem\n",
        "\n",
        "farm = [7, 4, 9]\n",
        "farm.sort()\n",
        "\n",
        "density = 1000000\n",
        "interval = 0\n",
        "interval_list = []\n",
        "\n",
        "if farm[2] == farm[0]+2:\n",
        "  print(\"min moves: 0\")\n",
        "\n",
        "elif farm[1] == farm[0]+2 or farm[2] == farm[1]+2:\n",
        "  print(\"min moves: 1\")\n",
        "\n",
        "else:\n",
        "  print(\"min moves:2\")\n",
        "\n",
        "for i in range(len(farm)-1):\n",
        "  interval = farm[i+1] - farm[i]\n",
        "  interval_list.append(interval)\n",
        "\n",
        "max_moves = max(interval_list)-1\n",
        "print(\"max moves:\", max)\n"
      ],
      "metadata": {
        "colab": {
          "base_uri": "https://localhost:8080/"
        },
        "id": "-jG2lDpvJCH_",
        "outputId": "fbf90fd1-a167-4431-9751-dd674077db19"
      },
      "execution_count": 8,
      "outputs": [
        {
          "output_type": "stream",
          "name": "stdout",
          "text": [
            "min moves: 1\n",
            "max moves: <built-in function max>\n"
          ]
        }
      ]
    },
    {
      "cell_type": "code",
      "source": [
        "#silver problem\n",
        "\n",
        "def solve_min(farm):\n",
        "  N = len(farm)\n",
        "\n",
        "  if (farm[N-2]-farm[0] == N-2 and farm[N-1]-farm[N-2] > 2):\n",
        "    return(2)\n",
        "  if (farm[N-2]-farm[1] == N-2 and farm[1]-farm[0] > 2):\n",
        "    return(2)\n",
        "  \n",
        "  j = 0\n",
        "  best = 0\n",
        "  for i in range(0, len(farm)):\n",
        "    while(j < N-1 and farm[j+1]-farm[i] <= N-1):\n",
        "      j += 1\n",
        "      best = max(best, j-i+1)\n",
        "  return N - best\n",
        "\n",
        "A = [1, 5, 7, 10, 15]\n",
        "N = len(A)\n",
        "\n",
        "answer_min = solve_min(A)\n",
        "answer_max = max(A[N-2]-A[0], A[N-1]- A[1]) - (N-2)\n",
        "\n",
        "print(answer_min, answer_max)"
      ],
      "metadata": {
        "colab": {
          "base_uri": "https://localhost:8080/"
        },
        "id": "7mE29Os3ZFKi",
        "outputId": "c0af6fc1-5dc3-41b3-c7c7-0b6bc6f27b82"
      },
      "execution_count": 7,
      "outputs": [
        {
          "output_type": "stream",
          "name": "stdout",
          "text": [
            "3 7\n"
          ]
        }
      ]
    },
    {
      "cell_type": "markdown",
      "source": [
        "### Impractical Project #39a/b: Revegetation"
      ],
      "metadata": {
        "id": "oQqOcKQPJDOH"
      }
    },
    {
      "cell_type": "markdown",
      "source": [
        "Objective: \n",
        "\n",
        "A - See http://www.usaco.org/index.php?page=viewproblem2&cpid=916 \n",
        "\n",
        "B - see http://www.usaco.org/index.php?page=viewproblem2&cpid=920"
      ],
      "metadata": {
        "id": "mbqpzlAtJDH7"
      }
    },
    {
      "cell_type": "code",
      "source": [
        "#PART A\n",
        "\n",
        "cows = [[4,1], [4,2], [4,3], [2,5], [1,2], [1,5]]\n",
        "for cow in cows:\n",
        "  cow.sort()\n",
        "cows.sort()\n",
        "#print(cows)\n",
        "\n",
        "pastures = []\n",
        "i = 0\n",
        "m = len(cows)\n",
        "while i < m-1:\n",
        "  pastures.append(1)\n",
        "  i += 1\n",
        "\n",
        "for cow in cows:\n",
        "  if cow[0] > cow[1]:\n",
        "    if pastures[cow[0]-1] == pastures[cow[1]-1]:\n",
        "     pastures[cow[0]-1] +=1\n",
        "  else:\n",
        "    if pastures[cow[1]-1] == pastures[cow[0]-1]:\n",
        "     pastures[cow[1]-1] +=1\n",
        "\n",
        "print(pastures)"
      ],
      "metadata": {
        "colab": {
          "base_uri": "https://localhost:8080/"
        },
        "id": "OvlC2Ug0JC_o",
        "outputId": "e57cd055-e247-41c9-e3c4-7fc3e6c0546b"
      },
      "execution_count": 1,
      "outputs": [
        {
          "output_type": "stream",
          "name": "stdout",
          "text": [
            "[1, 2, 1, 3, 3]\n"
          ]
        }
      ]
    },
    {
      "cell_type": "markdown",
      "source": [
        "# **DAY 15**"
      ],
      "metadata": {
        "id": "yto16BAKcpte"
      }
    },
    {
      "cell_type": "markdown",
      "source": [
        "### Impractical Project #40a/b: Painting the Barn"
      ],
      "metadata": {
        "id": "_EFrowkgJCzP"
      }
    },
    {
      "cell_type": "markdown",
      "source": [
        "Objective: \n",
        "\n",
        "A - See http://www.usaco.org/index.php?page=viewproblem2&cpid=919.\n",
        "\n",
        "B - See http://www.usaco.org/index.php?page=viewproblem2&cpid=923"
      ],
      "metadata": {
        "id": "M4Kv0JU3JCsR"
      }
    },
    {
      "cell_type": "code",
      "source": [
        "#PART A\n",
        "rectangles = [[1,1,5,5], [3,3,8,7], [4,4,7,6]] #[x1,y1,x2,y2] bottom left then top right\n",
        "k = 2\n",
        "\n",
        "max_x = 0\n",
        "max_y = 0\n",
        "\n",
        "for rectangle in rectangles:\n",
        "  if rectangle[2] > max_x:\n",
        "    max_x = rectangle[2]\n",
        "  if rectangle[3] > max_y:\n",
        "    max_y = rectangle[3]\n",
        "\n",
        "#make a blank wall\n",
        "wall = []\n",
        "for i in range(0,max_x):\n",
        "  wall.append([0] * max_y)\n",
        "\n",
        "#populate the wall with 'paint'\n",
        "for rectangle in rectangles:\n",
        "  x1 = rectangle[0]\n",
        "  y1 = rectangle[1]\n",
        "  x2 = rectangle[2]\n",
        "  y3 = rectangle[3]\n",
        "\n",
        "  for i in range(rectangle[0], rectangle[2]):\n",
        "    for j in range(rectangle[1], rectangle[3]):\n",
        "      wall[i][j] +=1\n",
        "\n",
        "#count the number of sections that have been painted k times\n",
        "k_counter = 0\n",
        "for i in range(0, len(wall)):\n",
        "  for j in range(0, len(wall[i])):\n",
        "    if wall[i][j] == k:\n",
        "      k_counter += 1\n",
        "\n",
        "print(wall)\n",
        "print(\"farmer john has painted\", k_counter, \" square area\")"
      ],
      "metadata": {
        "colab": {
          "base_uri": "https://localhost:8080/"
        },
        "id": "3d8tmV-AJCiw",
        "outputId": "983958ae-7420-4732-ed27-5fc1d3663bda"
      },
      "execution_count": 17,
      "outputs": [
        {
          "output_type": "stream",
          "name": "stdout",
          "text": [
            "[[0, 0, 0, 0, 0, 0, 0], [0, 1, 1, 1, 1, 0, 0], [0, 1, 1, 1, 1, 0, 0], [0, 1, 1, 2, 2, 1, 1], [0, 1, 1, 2, 3, 2, 1], [0, 0, 0, 1, 2, 2, 1], [0, 0, 0, 1, 2, 2, 1], [0, 0, 0, 1, 1, 1, 1]]\n",
            "farmer john has painted 8  square area\n"
          ]
        }
      ]
    },
    {
      "cell_type": "code",
      "source": [
        "#PART B\n",
        "rectangles = [[1,1,4,4], [2,2,8,7], [3,3,7,6]] #[x1,y1,x2,y2] bottom left then top right\n",
        "k = 2\n",
        "\n",
        "max_x = 0\n",
        "max_y = 0\n",
        "\n",
        "for rectangle in rectangles:\n",
        "  if rectangle[2] > max_x:\n",
        "    max_x = rectangle[2]\n",
        "  if rectangle[3] > max_y:\n",
        "    max_y = rectangle[3]\n",
        "\n",
        "#make a blank wall\n",
        "wall = []\n",
        "for i in range(0,max_x):\n",
        "  wall.append([0] * max_y)\n",
        "\n",
        "#populate the wall with 'paint'\n",
        "for rectangle in rectangles:\n",
        "  x1 = rectangle[0]\n",
        "  y1 = rectangle[1]\n",
        "  x2 = rectangle[2]\n",
        "  y3 = rectangle[3]\n",
        "\n",
        "  for i in range(rectangle[0], rectangle[2]):\n",
        "    for j in range(rectangle[1], rectangle[3]):\n",
        "      wall[i][j] +=1\n",
        "\n",
        "\n",
        "k_counter = 0\n",
        "change_counter = 0\n",
        "\n",
        "for i in range(0, len(wall)):\n",
        "  for j in range(0, len(wall[i])):\n",
        "    if wall[i][j] == k:\n",
        "      k_counter += 1\n",
        "\n",
        "# what happenes if you paint the whole wall\n",
        "for i in range(0, len(wall)):\n",
        "  for j in range(0, len(wall[i])):\n",
        "    if wall[i][j] == k:\n",
        "      change_counter -=1\n",
        "    elif wall[i][j] == k-1:\n",
        "      change_counter += 1\n",
        "    else:\n",
        "      continue\n",
        "\n",
        "\n",
        "print(wall)\n",
        "print(\"farmer john has painted\", k_counter, \"squares\", k, \"times\")\n",
        "print(\"if he paints the whole wall,\", change_counter, \"additional squares will have been painted\", k, \"times\")"
      ],
      "metadata": {
        "colab": {
          "base_uri": "https://localhost:8080/"
        },
        "id": "zz7l3Vyiq0mi",
        "outputId": "037aa245-ec2e-4ec2-b0d0-e4f9b4706254"
      },
      "execution_count": 23,
      "outputs": [
        {
          "output_type": "stream",
          "name": "stdout",
          "text": [
            "[[0, 0, 0, 0, 0, 0, 0], [0, 1, 1, 1, 0, 0, 0], [0, 1, 2, 2, 1, 1, 1], [0, 1, 2, 3, 2, 2, 1], [0, 0, 1, 2, 2, 2, 1], [0, 0, 1, 2, 2, 2, 1], [0, 0, 1, 2, 2, 2, 1], [0, 0, 1, 1, 1, 1, 1]]\n",
            "farmer john has painted 14 squares 2 times\n",
            "if he paints the whole wall, 6 additional squares will have been painted 2 times\n"
          ]
        }
      ]
    }
  ]
}