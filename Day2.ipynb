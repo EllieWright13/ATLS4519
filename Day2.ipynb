{
  "nbformat": 4,
  "nbformat_minor": 0,
  "metadata": {
    "colab": {
      "name": "Day2.ipynb",
      "provenance": [],
      "authorship_tag": "ABX9TyOorBM8Zpz0zliS53gmHvem",
      "include_colab_link": true
    },
    "kernelspec": {
      "name": "python3",
      "display_name": "Python 3"
    },
    "language_info": {
      "name": "python"
    }
  },
  "cells": [
    {
      "cell_type": "markdown",
      "metadata": {
        "id": "view-in-github",
        "colab_type": "text"
      },
      "source": [
        "<a href=\"https://colab.research.google.com/github/EllieWright13/ATLS4519/blob/main/Day2.ipynb\" target=\"_parent\"><img src=\"https://colab.research.google.com/assets/colab-badge.svg\" alt=\"Open In Colab\"/></a>"
      ]
    },
    {
      "cell_type": "markdown",
      "source": [
        "Impractical Project #4: Anagrams\n",
        "Objective: Use Python and a dictionary file to find all the single-word anagrams for a given English word.\n",
        "\n",
        "\n",
        "\n",
        "psuedocode:\n",
        "- import dictionary\n",
        "- get input word from user\n",
        "- put letter quantities in a list\n",
        "- check dictionary words for matching letter quantities\n",
        "- print word"
      ],
      "metadata": {
        "id": "GcrEM2OA_kzR"
      }
    },
    {
      "cell_type": "code",
      "execution_count": 1,
      "metadata": {
        "colab": {
          "base_uri": "https://localhost:8080/"
        },
        "id": "mNp-xZKU_jQY",
        "outputId": "45035311-6b41-46e3-e200-7d75dbaaa2af"
      },
      "outputs": [
        {
          "output_type": "stream",
          "name": "stdout",
          "text": [
            "please enter a word:  sopt\n",
            "opts\n",
            "post\n",
            "pots\n",
            "spot\n",
            "stop\n",
            "tops\n"
          ]
        }
      ],
      "source": [
        "dictionaryFile = \"/content/dictionary2.txt\"\n",
        "wordList = open(dictionaryFile, \"r\")\n",
        "\n",
        "def countLetters(word):\n",
        "  count = {}\n",
        "  for letter in word:\n",
        "    if letter in count:\n",
        "      count[letter] += 1\n",
        "    else:\n",
        "      count[letter] =1\n",
        "  return count\n",
        "\n",
        "originalWord = input(\"please enter a word:  \")\n",
        "compare = countLetters(originalWord)\n",
        "\n",
        "for word in wordList:\n",
        "  word = word.strip()\n",
        "  if countLetters(word) == compare:\n",
        "    print(word)\n"
      ]
    },
    {
      "cell_type": "markdown",
      "source": [
        "Impractical Project #5: Phrase Anagrams\n",
        "\n",
        "Objective: Write a Python program that lets a user interactively build an anagram phrase from the letters in their name.\n",
        "\n",
        "psuedocode:\n",
        "- get input from user\n",
        "- load dictionary as a set\n",
        "- import itertools (permutations)\n",
        "\n",
        "- run all permutations on input\n",
        "- "
      ],
      "metadata": {
        "id": "0e0cBsswICvy"
      }
    },
    {
      "cell_type": "code",
      "source": [
        "dictionaryFile = \"/content/dictionary2.txt\"\n",
        "wordList = open(dictionaryFile, \"r\")\n",
        "from itertools import permutations\n",
        "from itertools import combinations\n",
        "\n",
        "userInput = input(\"please enter a word:  \")\n",
        "\n",
        "perms = []\n",
        "for j in range(1,len(userInput)):\n",
        "  permCount = [''.join(i) for i in permutations(userInput,j)]\n",
        "  perms.extend(permCount)\n",
        "print(len(perms))\n",
        "print(perms)\n",
        "\n",
        "# check perm against dictionary\n",
        "# if there save to a new list\n",
        "x = []\n",
        "\n",
        "for item in perms:\n",
        "  perm_to_check = list(item)\n",
        "  #permutation = list(permutation)\n",
        "  #permutation.sort()\n",
        "\n",
        "  for word in wordList:\n",
        "    word = word.strip()\n",
        "    wordList = list(word)\n",
        "    #dictionaryList.sort()\n",
        "\n",
        "    if perm_to_check == wordList:\n",
        "      x.append()\n",
        "\n",
        "print(x)\n",
        "\n",
        "# nested loops - cycle through words and combine with others\n",
        "## letter frequency analysis; if two wprds combined matches original word\n",
        "## save to y\n",
        "\n",
        "# y is the answer - a list of possiblee two-word phrases"
      ],
      "metadata": {
        "colab": {
          "base_uri": "https://localhost:8080/"
        },
        "id": "Bl7g55lmThUu",
        "outputId": "495a3a1e-265f-4533-eb84-ac03068c4158"
      },
      "execution_count": 7,
      "outputs": [
        {
          "output_type": "stream",
          "name": "stdout",
          "text": [
            "please enter a word:  ospt\n",
            "40\n",
            "['o', 's', 'p', 't', 'os', 'op', 'ot', 'so', 'sp', 'st', 'po', 'ps', 'pt', 'to', 'ts', 'tp', 'osp', 'ost', 'ops', 'opt', 'ots', 'otp', 'sop', 'sot', 'spo', 'spt', 'sto', 'stp', 'pos', 'pot', 'pso', 'pst', 'pto', 'pts', 'tos', 'top', 'tso', 'tsp', 'tpo', 'tps']\n",
            "['s']\n"
          ]
        }
      ]
    },
    {
      "cell_type": "markdown",
      "source": [
        "Impractical Project #6: I Am Lord Voldemort [HW]\n",
        "\n",
        "Objective: Use Python to find ‘volde’ out of the input ‘odlve’."
      ],
      "metadata": {
        "id": "hit5l3QHThwG"
      }
    },
    {
      "cell_type": "code",
      "source": [
        "from itertools import permutations\n",
        "\n",
        "word = 'volde'\n",
        "perms = [''.join(i) for i in permutations(word)]\n",
        "print(len(perms))\n",
        "print(perms)"
      ],
      "metadata": {
        "colab": {
          "base_uri": "https://localhost:8080/"
        },
        "id": "3KaSR7dsTHbg",
        "outputId": "7c7103d3-fc12-4f8c-b11a-a517de7cd91b"
      },
      "execution_count": 17,
      "outputs": [
        {
          "output_type": "stream",
          "name": "stdout",
          "text": [
            "120\n",
            "['volde', 'voled', 'vodle', 'vodel', 'voeld', 'voedl', 'vlode', 'vloed', 'vldoe', 'vldeo', 'vleod', 'vledo', 'vdole', 'vdoel', 'vdloe', 'vdleo', 'vdeol', 'vdelo', 'veold', 'veodl', 'velod', 'veldo', 'vedol', 'vedlo', 'ovlde', 'ovled', 'ovdle', 'ovdel', 'oveld', 'ovedl', 'olvde', 'olved', 'oldve', 'oldev', 'olevd', 'oledv', 'odvle', 'odvel', 'odlve', 'odlev', 'odevl', 'odelv', 'oevld', 'oevdl', 'oelvd', 'oeldv', 'oedvl', 'oedlv', 'lvode', 'lvoed', 'lvdoe', 'lvdeo', 'lveod', 'lvedo', 'lovde', 'loved', 'lodve', 'lodev', 'loevd', 'loedv', 'ldvoe', 'ldveo', 'ldove', 'ldoev', 'ldevo', 'ldeov', 'levod', 'levdo', 'leovd', 'leodv', 'ledvo', 'ledov', 'dvole', 'dvoel', 'dvloe', 'dvleo', 'dveol', 'dvelo', 'dovle', 'dovel', 'dolve', 'dolev', 'doevl', 'doelv', 'dlvoe', 'dlveo', 'dlove', 'dloev', 'dlevo', 'dleov', 'devol', 'devlo', 'deovl', 'deolv', 'delvo', 'delov', 'evold', 'evodl', 'evlod', 'evldo', 'evdol', 'evdlo', 'eovld', 'eovdl', 'eolvd', 'eoldv', 'eodvl', 'eodlv', 'elvod', 'elvdo', 'elovd', 'elodv', 'eldvo', 'eldov', 'edvol', 'edvlo', 'edovl', 'edolv', 'edlvo', 'edlov']\n"
          ]
        }
      ]
    }
  ]
}