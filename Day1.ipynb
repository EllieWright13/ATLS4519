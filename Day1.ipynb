{
  "nbformat": 4,
  "nbformat_minor": 0,
  "metadata": {
    "colab": {
      "name": "Day1.ipynb",
      "provenance": [],
      "authorship_tag": "ABX9TyMSiBGhlWKsLsLulD54DA8s",
      "include_colab_link": true
    },
    "kernelspec": {
      "name": "python3",
      "display_name": "Python 3"
    },
    "language_info": {
      "name": "python"
    }
  },
  "cells": [
    {
      "cell_type": "markdown",
      "metadata": {
        "id": "view-in-github",
        "colab_type": "text"
      },
      "source": [
        "<a href=\"https://colab.research.google.com/github/EllieWright13/ATLS4519/blob/main/Day1.ipynb\" target=\"_parent\"><img src=\"https://colab.research.google.com/assets/colab-badge.svg\" alt=\"Open In Colab\"/></a>"
      ]
    },
    {
      "cell_type": "markdown",
      "source": [
        "import random library\n",
        "\n",
        "define three lists -- one for each name\n",
        "\n",
        "generate random numbers that arent bigger than given lists\n",
        "\n",
        "honorific variable --\n",
        "set to value from list with random number\n",
        "\n",
        "Fname variable --\n",
        "set to value from list with random number\n",
        "\n",
        "Lname variable --\n",
        "set to value from list with random number\n",
        "\n",
        "shove names together\n",
        "\n",
        "print name"
      ],
      "metadata": {
        "id": "u-AIzcBS_XGR"
      }
    },
    {
      "cell_type": "code",
      "execution_count": 8,
      "metadata": {
        "colab": {
          "base_uri": "https://localhost:8080/"
        },
        "id": "0bcV9fxU--Pw",
        "outputId": "489ad432-ae83-4ca9-ea07-fd534e97e7a5"
      },
      "outputs": [
        {
          "output_type": "stream",
          "name": "stdout",
          "text": [
            "    Morales\n"
          ]
        }
      ],
      "source": [
        "import random\n",
        "\n",
        "honorific_list = [' ', 'Amazing', 'Esteemed', 'Magnificient', 'Horrid']\n",
        "fname_list = [' ', 'John', 'Hank', 'Blake', 'Toni' ]\n",
        "lname_list = [' ', 'Smith' , 'Morales', 'Tom', 'Rigatoni']\n",
        "\n",
        "random_number1= random.randint(0,len(honorific_list)-1)\n",
        "random_number2= random.randint(0,len(fname_list)-1)\n",
        "random_number3= random.randint(0,len(lname_list)-1)\n",
        "\n",
        "honorific = honorific_list[random_number1]\n",
        "first = fname_list[random_number2]\n",
        "last = lname_list[random_number3]\n",
        "\n",
        "print(honorific + \" \" + first + \" \" + last)\n"
      ]
    },
    {
      "cell_type": "markdown",
      "source": [
        "open a text file\n",
        "\n",
        "loop over every word in the file\n",
        "\n",
        "for word in word list\n",
        "- check first and last letter\n",
        "  - if it doesnt match move on\n",
        "  - if it matches check the next letters\n",
        "  - if the index matches the length of the word print it\n",
        "\n",
        "\n",
        "\n",
        "\n",
        "1 to length of word -1\n",
        "- if i< length of word/2\n",
        "  - print the word\n",
        "\n",
        "- if to check forst and last letteer\n",
        "- "
      ],
      "metadata": {
        "id": "hYqTpP39KuLy"
      }
    },
    {
      "cell_type": "code",
      "source": [
        "dictionaryFile = \"/content/dictionary.txt\"\n",
        "wordList = open(dictionaryFile, \"r\")\n",
        "\n",
        "# wordList = ['kayak', 'nurse','reach', 'eye']\n",
        "\n",
        "for word in wordList:\n",
        "  word = word.strip()\n",
        "  for i in range(0, len(word)-1):\n",
        "    if word[i] != word[len(word)-(i+1)]:\n",
        "      #print(\"not a palindrome\")\n",
        "      break\n",
        "    #elif word[i] == word[len(word)-1]:\n",
        "    elif i>= ((len(word)-1)/2):\n",
        "      print(word)\n",
        "      break"
      ],
      "metadata": {
        "colab": {
          "base_uri": "https://localhost:8080/"
        },
        "id": "QsdecMKMOrp-",
        "outputId": "6103c12f-4019-4ca3-cab3-ed28e17fb548"
      },
      "execution_count": 20,
      "outputs": [
        {
          "output_type": "stream",
          "name": "stdout",
          "text": [
            "ABABA\n",
            "ABBA\n",
            "ADA\n",
            "ANNA\n",
            "BIB\n",
            "BOB\n",
            "BOOB\n",
            "CIVIC\n",
            "DAD\n",
            "DEED\n",
            "DID\n",
            "DUD\n",
            "EKE\n",
            "ERE\n",
            "EVE\n",
            "EWE\n",
            "EYE\n",
            "GAG\n",
            "GIG\n",
            "HANNAH\n",
            "HUH\n",
            "LEVEL\n",
            "MADAM\n",
            "NAN\n",
            "NON\n",
            "NOON\n",
            "NUN\n",
            "OTTO\n",
            "PEEP\n",
            "PEP\n",
            "PIP\n",
            "POP\n",
            "PUP\n",
            "RADAR\n",
            "REDDER\n",
            "REFER\n",
            "REVIVER\n",
            "ROTATOR\n",
            "ROTOR\n",
            "SEES\n",
            "SEXES\n",
            "SOLOS\n",
            "SUS\n",
            "TIT\n"
          ]
        }
      ]
    }
  ]
}