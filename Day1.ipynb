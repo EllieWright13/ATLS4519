{
  "nbformat": 4,
  "nbformat_minor": 0,
  "metadata": {
    "colab": {
      "name": "Day1.ipynb",
      "provenance": [],
      "authorship_tag": "ABX9TyOOaEqVIKdH//8uXexTQ4ta",
      "include_colab_link": true
    },
    "kernelspec": {
      "name": "python3",
      "display_name": "Python 3"
    },
    "language_info": {
      "name": "python"
    }
  },
  "cells": [
    {
      "cell_type": "markdown",
      "metadata": {
        "id": "view-in-github",
        "colab_type": "text"
      },
      "source": [
        "<a href=\"https://colab.research.google.com/github/EllieWright13/ATLS4519/blob/main/Day1.ipynb\" target=\"_parent\"><img src=\"https://colab.research.google.com/assets/colab-badge.svg\" alt=\"Open In Colab\"/></a>"
      ]
    },
    {
      "cell_type": "markdown",
      "source": [
        "PSUEDOCODE FOR PROBLEM ONE\n",
        "\n",
        "import random library\n",
        "\n",
        "define three lists -- one for each name\n",
        "\n",
        "generate random numbers that arent bigger than given lists\n",
        "\n",
        "honorific variable --\n",
        "set to value from list with random number\n",
        "\n",
        "Fname variable --\n",
        "set to value from list with random number\n",
        "\n",
        "Lname variable --\n",
        "set to value from list with random number\n",
        "\n",
        "shove names together\n",
        "\n",
        "print name"
      ],
      "metadata": {
        "id": "u-AIzcBS_XGR"
      }
    },
    {
      "cell_type": "code",
      "execution_count": 27,
      "metadata": {
        "colab": {
          "base_uri": "https://localhost:8080/"
        },
        "id": "0bcV9fxU--Pw",
        "outputId": "fe8a2f3b-ae9b-4d6e-ba1e-d145fc9995e9"
      },
      "outputs": [
        {
          "output_type": "stream",
          "name": "stdout",
          "text": [
            "Amazing Toni Rigatoni\n"
          ]
        }
      ],
      "source": [
        "import random\n",
        "\n",
        "honorific_list = [' ', 'Amazing', 'Esteemed', 'Magnificient', 'Horrid']\n",
        "fname_list = [' ', 'John', 'Hank', 'Blake', 'Toni' ]\n",
        "lname_list = [' ', 'Smith' , 'Morales', 'Tom', 'Rigatoni']\n",
        "\n",
        "random_number1= random.randint(0,len(honorific_list)-1)\n",
        "random_number2= random.randint(0,len(fname_list)-1)\n",
        "random_number3= random.randint(0,len(lname_list)-1)\n",
        "\n",
        "honorific = honorific_list[random_number1]\n",
        "first = fname_list[random_number2]\n",
        "last = lname_list[random_number3]\n",
        "\n",
        "print(honorific + \" \" + first + \" \" + last)\n"
      ]
    },
    {
      "cell_type": "markdown",
      "source": [
        "PSUEDOCODE FOR PROBLEM TWO\n",
        "\n",
        "open a text file\n",
        "\n",
        "loop over every word in the file\n",
        "\n",
        "for word in word list\n",
        "- check first and last letter\n",
        "  - if it doesnt match move on\n",
        "  - if the index matches half the length of the word print it\n",
        "  - loop back and check the next letters\n"
      ],
      "metadata": {
        "id": "hYqTpP39KuLy"
      }
    },
    {
      "cell_type": "code",
      "source": [
        "dictionaryFile = \"/content/dictionary.txt\"\n",
        "wordList = open(dictionaryFile, \"r\")\n",
        "\n",
        "# wordList = ['kayak', 'nurse','reach', 'eye']\n",
        "\n",
        "for word in wordList:\n",
        "  word = word.strip()\n",
        "  for i in range(0, len(word)-1):\n",
        "    if word[i] != word[len(word)-(i+1)]:\n",
        "      #print(\"not a palindrome\")\n",
        "      break\n",
        "    elif i>= ((len(word)-1)/2):\n",
        "      print(word)\n",
        "      break"
      ],
      "metadata": {
        "colab": {
          "base_uri": "https://localhost:8080/"
        },
        "id": "QsdecMKMOrp-",
        "outputId": "1a73d99f-5e3b-430d-8475-8097d05a9acf"
      },
      "execution_count": 22,
      "outputs": [
        {
          "output_type": "stream",
          "name": "stdout",
          "text": [
            "ABABA\n",
            "ABBA\n",
            "ADA\n",
            "ANNA\n",
            "BIB\n",
            "BOB\n",
            "BOOB\n",
            "CIVIC\n",
            "DAD\n",
            "DEED\n",
            "DID\n",
            "DUD\n",
            "EKE\n",
            "ERE\n",
            "EVE\n",
            "EWE\n",
            "EYE\n",
            "GAG\n",
            "GIG\n",
            "HANNAH\n",
            "HUH\n",
            "LEVEL\n",
            "MADAM\n",
            "NAN\n",
            "NON\n",
            "NOON\n",
            "NUN\n",
            "OTTO\n",
            "PEEP\n",
            "PEP\n",
            "PIP\n",
            "POP\n",
            "PUP\n",
            "RADAR\n",
            "REDDER\n",
            "REFER\n",
            "REVIVER\n",
            "ROTATOR\n",
            "ROTOR\n",
            "SEES\n",
            "SEXES\n",
            "SOLOS\n",
            "SUS\n",
            "TIT\n"
          ]
        }
      ]
    },
    {
      "cell_type": "markdown",
      "source": [
        "PSUEDOCODE FOR PROBLEM THREE\n",
        "\n",
        "open text file\n",
        "\n",
        "loop through each word in the list\n",
        "- loop through the second list\n",
        "- check if the two words together is a palindrome\n",
        "  - combine into one string\n",
        "  - run same loop as above"
      ],
      "metadata": {
        "id": "1gxkAxvrZhXJ"
      }
    },
    {
      "cell_type": "code",
      "source": [
        "dictionaryFile = \"/content/dictionary2.txt\"\n",
        "wordList1 = open(dictionaryFile, \"r\")\n",
        "wordList2 = open(dictionaryFile, \"r\")\n",
        "\n",
        "#wordList1 = ['kayak', 'evil','reach', 'eye','moms','olive','smom']\n",
        "#wordList2 = ['yes', 'nurse','olive', 'here','smom']\n",
        "\n",
        "def checkPalindrome(word):\n",
        "  for i in range(0, len(word)-1):\n",
        "    if word[i] != word[len(word)-(i+1)]:\n",
        "      #print(\"not a palindrome\")\n",
        "      break\n",
        "    elif i>= ((len(word)-1)/2):\n",
        "      return True\n",
        "\n",
        "      break\n",
        "\n",
        "for firstWord in wordList1:\n",
        "  firstWord = firstWord.strip()\n",
        "  wordList2 = open(dictionaryFile, \"r\")\n",
        "  for secondWord in wordList2:\n",
        "    #firstWord = firstWord.strip()\n",
        "    secondWord = secondWord.strip()\n",
        "    word = firstWord + secondWord\n",
        "    #print(word)\n",
        "    #checkPalindrome(word)\n",
        "    if checkPalindrome(word) == True:\n",
        "      print(firstWord,secondWord)\n"
      ],
      "metadata": {
        "colab": {
          "base_uri": "https://localhost:8080/",
          "height": 258
        },
        "id": "9I33KrBHZhkp",
        "outputId": "65e1f453-eab2-4582-d73d-04e9b9a20f53"
      },
      "execution_count": 3,
      "outputs": [
        {
          "output_type": "stream",
          "name": "stdout",
          "text": [
            "abut tuba\n",
            "abuts tuba\n"
          ]
        },
        {
          "output_type": "error",
          "ename": "KeyboardInterrupt",
          "evalue": "ignored",
          "traceback": [
            "\u001b[0;31m---------------------------------------------------------------------------\u001b[0m",
            "\u001b[0;31mKeyboardInterrupt\u001b[0m                         Traceback (most recent call last)",
            "\u001b[0;32m<ipython-input-3-a97d39a2c450>\u001b[0m in \u001b[0;36m<module>\u001b[0;34m()\u001b[0m\n\u001b[1;32m     25\u001b[0m     \u001b[0;31m#print(word)\u001b[0m\u001b[0;34m\u001b[0m\u001b[0;34m\u001b[0m\u001b[0;34m\u001b[0m\u001b[0m\n\u001b[1;32m     26\u001b[0m     \u001b[0;31m#checkPalindrome(word)\u001b[0m\u001b[0;34m\u001b[0m\u001b[0;34m\u001b[0m\u001b[0;34m\u001b[0m\u001b[0m\n\u001b[0;32m---> 27\u001b[0;31m     \u001b[0;32mif\u001b[0m \u001b[0mcheckPalindrome\u001b[0m\u001b[0;34m(\u001b[0m\u001b[0mword\u001b[0m\u001b[0;34m)\u001b[0m \u001b[0;34m==\u001b[0m \u001b[0;32mTrue\u001b[0m\u001b[0;34m:\u001b[0m\u001b[0;34m\u001b[0m\u001b[0;34m\u001b[0m\u001b[0m\n\u001b[0m\u001b[1;32m     28\u001b[0m       \u001b[0mprint\u001b[0m\u001b[0;34m(\u001b[0m\u001b[0mfirstWord\u001b[0m\u001b[0;34m,\u001b[0m\u001b[0msecondWord\u001b[0m\u001b[0;34m)\u001b[0m\u001b[0;34m\u001b[0m\u001b[0;34m\u001b[0m\u001b[0m\n",
            "\u001b[0;31mKeyboardInterrupt\u001b[0m: "
          ]
        }
      ]
    }
  ]
}