{
  "nbformat": 4,
  "nbformat_minor": 0,
  "metadata": {
    "colab": {
      "name": "Week3.ipynb",
      "provenance": [],
      "authorship_tag": "ABX9TyMFxw2Vt0tznD1DvjqZNrjK",
      "include_colab_link": true
    },
    "kernelspec": {
      "name": "python3",
      "display_name": "Python 3"
    },
    "language_info": {
      "name": "python"
    }
  },
  "cells": [
    {
      "cell_type": "markdown",
      "metadata": {
        "id": "view-in-github",
        "colab_type": "text"
      },
      "source": [
        "<a href=\"https://colab.research.google.com/github/EllieWright13/ATLS4519/blob/main/Week3.ipynb\" target=\"_parent\"><img src=\"https://colab.research.google.com/assets/colab-badge.svg\" alt=\"Open In Colab\"/></a>"
      ]
    },
    {
      "cell_type": "markdown",
      "source": [
        "## **DAY 7**"
      ],
      "metadata": {
        "id": "YjTjk5QO_lKf"
      }
    },
    {
      "cell_type": "markdown",
      "source": [
        "# Impractical Project 22: Lifeguards#"
      ],
      "metadata": {
        "id": "73mFIHvRFq3F"
      }
    },
    {
      "cell_type": "markdown",
      "source": [
        "**Impractical Project #22: Lifeguards**\n",
        "\n",
        "**Objective: See http://www.usaco.org/index.php?page=viewproblem2&cpid=784 **\n",
        "\n",
        "KNOWNS\n",
        "- pool open from 0-1000\n",
        "- cows shift: (ts) startTime and (te) endTime\n",
        "- interval of time = 1\n",
        "- total time does not have to be continuous\n",
        "\n",
        "GOAL\n",
        "- get rid of the cow that high the highest precentage of overlap with other cows\n",
        "- calculate total time the pool is open\n",
        "\n",
        "SAMPLE INPUT:\n",
        "- 3 (number of lifeguards)\n",
        "- 5 9 (ts1 - te1)\n",
        "- 1 4 (ts2 - te2)\n",
        "- 3 7 (ts3 - te3) \n",
        "- ... \n",
        "\n",
        "SAMPLE OUTPUT:\n",
        "- 7 (max units of time that can be covered if one lifeguard is fired)\n",
        "\n",
        "PSUEDOCODE:\n",
        "- get input \n",
        "  - hours open\n",
        "  - ts and te (list of lists)\n",
        "- map cows to time points\n",
        "  - 1: cowX, 2: cowX and cow Y, ...etc...\n",
        "- calculate % over lap for all cows\n",
        "  - \n",
        "  - if cow has 100% over lap add to a list\n",
        "    - if more than one pick random\n",
        "  - else find max % overlap \n",
        "    - fire the cow\n",
        "- \n"
      ],
      "metadata": {
        "id": "ivV8YK8n4k22"
      }
    },
    {
      "cell_type": "code",
      "execution_count": 1,
      "metadata": {
        "colab": {
          "base_uri": "https://localhost:8080/"
        },
        "id": "payvCFBW4fgX",
        "outputId": "8ce3b2fb-a548-487e-e8f2-092a4b063d40"
      },
      "outputs": [
        {
          "output_type": "stream",
          "name": "stdout",
          "text": [
            "[]\n",
            "[[], [], [], [], [], [], [], [], [], [], [], [], [], [], [], [], [], [], [], [], [], [], [], [], [], [], [], [], [], [], [], [], [], [], [], [], [], [], [], [], [], [], [], [], [], [], [], [], [], [], [], [], [], [], [], [], [], [], [], [], [], [], [], [], [], [], [], [], [], [], [], [], [], [], [], [], [], [], [], [], [], [], [], [], [], [], [], [], [], [], [], [], [], [], [], [], [], [], [], [], [], [], [], [], [], [], [], [], [], [], [], [], [], [], [], [], [], [], [], [], [], [], [], [], [], [], [], [], [], [], [], [], [], [], [], [], [], [], [], [], [], [], [], [], [], [], [], [], [], [], [], [], [], [], [], [], [], [], [], [], [], [], [], [], [], [], [], [], [], [], [], [], [], [], [], [], [], [], [], [], [], [], [], [], [], [], [], [], [], [], [], [], [], [], [], [], [], [], [], [], [], [], [], [], [], [], [], [], [], [], [], [], [], [], [], [], [], [], [], [], [], [], [], [], [], [], [], [], [], [], [], [], [], [], [], [], [], [], [], [], [], [], [], [], [], [], [], [], [], [], [], [], [], [], [], [], [], [], [], [], [], [], [], [], [], [], [], [], [], [], [], [], [], [], [], [], [], [], [], [], [], [], [], [], [], [], [], [], [], [], [], [], [], [], [], [], [], [], [], [], [], [], [], [], [], [], [], [], [], [], [], [], [], [], [], [], [], [], [], [], [], [], [], [], [], [], [], [], [], [], [], [], [], [], [], [], [], [], [], [], [], [], [], [], [], [], [], [], [], [], [], [], [], [], [], [], [], [], [], [], [], [], [], [], [], [], [], [], [], [], [], [], [], [], [], [], [], [], [], [], [], [], [], [], [], [], [], [], [], [], [], [], [], [], [], [], [], [], [], [], [], [], [], [], [], [], [], [], [], [], [], [], [], [], [], [], [], [], [], [], [], [], [], [], [], [], [], [], [], [], [], [], [], [], [], [], [], [], [], [], [], [], [], [], [], [], [], [], [], [], [], [], [], [], [], [], [], [], [], [], [], [], [], [], [], [], [], [], [], [], [], [], [], [], [], [], [], [], [], [], [], [], [], [], [], [], [], [], [], [], [], [], [], [], [], [], [], [], [], [], [], [], [], [], [], [], [], [], [], [], [], [], [], [], [], [], [], [], [], [], [], [], [], [], [], [], [], [], [], [], [], [], [], [], [], [], [], [], [], [], [], [], [], [], [], [], [], [], [], [], [], [], [], [], [], [], [], [], [], [], [], [], [], [], [], [], [], [], [], [], [], [], [], [], [], [], [], [], [], [], [], [], [], [], [], [], [], [], [], [], [], [], [], [], [], [], [], [], [], [], [], [], [], [], [], [], [], [], [], [], [], [], [], [], [], [], [], [], [], [], [], [], [], [], [], [], [], [], [], [], [], [], [], [], [], [], [], [], [], [], [], [], [], [], [], [], [], [], [], [], [], [], [], [], [], [], [], [], [], [], [], [], [], [], [], [], [], [], [], [], [], [], [], [], [], [], [], [], [], [], [], [], [], [], [], [], [], [], [], [], [], [], [], [], [], [], [], [], [], [], [], [], [], [], [], [], [], [], [], [], [], [], [], [], [], [], [], [], [], [], [], [], [], [], [], [], [], [], [], [], [], [], [], [], [], [], [], [], [], [], [], [], [], [], [], [], [], [], [], [], [], [], [], [], [], [], [], [], [], [], [], [], [], [], [], [], [], [], [], [], [], [], [], [], [], [], [], [], [], [], [], [], [], [], [], [], [], [], [], [], [], [], [], [], [], [], [], [], [], [], [], [], [], [], [], [], [], [], [], [], [], [], [], [], [], [], [], [], [], [], [], [], [], [], [], [], [], [], [], [], [], [], [], [], [], [], [], [], [], [], [], [], [], [], [], [], [], [], [], [], [], [], [], [], [], [], [], [], [], [], [], [], [], [], [], [], [], [], [], [], [], [], [], [], [], [], [], [], [], [], [], [], [], [], [], [], [], [], [], [], [], [], [], [], [], [], [], [], [], [], [], [], [], [], [], [], [], [], [], [], [], [], [], [], [], [], [], [], [], [], [], [], [], [], [], [], [], [], [], [], [], [], [], [], [], [], [], [], [], [], [], [], [], [], [], [], [], [], [], [], [], [], [], [], [], [], [], [], [], [], [], [], [], [], [], [], [], [], [], [], [], [], [], [], [], [], [], [], [], [], [], [], [], [], [], [], [], [], [], [], [], [], [], [], [], [], [], [], [], []]\n",
            "9\n"
          ]
        }
      ],
      "source": [
        "number_of_cows = 4\n",
        "cow_list = [[0,3], [4,9], [1,2], [6,10]]\n",
        "\n",
        "#range_1 = range(0, 1000, 1)\n",
        "available_time_indexes = []\n",
        "print(available_time_indexes)\n",
        "\n",
        "i = 0\n",
        "while i <1000:\n",
        "  available_time_indexes.append([])\n",
        "  i += 1\n",
        "print(available_time_indexes)\n",
        "\n",
        "#cow class creation\n",
        "class cow:\n",
        "  def __init__(self, start, end):\n",
        "    self.ts = start\n",
        "    self.te = end\n",
        "    self.interval = list(range(start, end, 1))\n",
        "    self.newInterval = list(range(start, end, 1))\n",
        "\n",
        "long_cows = []\n",
        "\n",
        "for item in cow_list:\n",
        "  new_cow = cow(item[0], item[1])\n",
        "  long_cows.append(new_cow)\n",
        "\n",
        "  for hour in new_cow.interval:\n",
        "    #print(hour)\n",
        "    available_time_indexes[hour].append(new_cow)\n",
        "    #break\n",
        "  \n",
        "  #break\n",
        "\n",
        "final_hours_covered = 0\n",
        "\n",
        "for item in long_cows:\n",
        "  test_list = available_time_indexes.copy()\n",
        "\n",
        "  hours_covered = 0\n",
        "\n",
        "  i = 0\n",
        "  for i in available_time_indexes:\n",
        "    if len(i) > 1:\n",
        "      hours_covered += 1\n",
        "    elif len(i) == 1 and i[0] != item:\n",
        "      hours_covered += 1\n",
        "\n",
        "    # if item in i:\n",
        "    #   i.remove(item)\n",
        "      \n",
        "  # for i in test_list:\n",
        "  #   if len(i) > 0:\n",
        "  #     hours_covered += 1\n",
        "\n",
        "  if hours_covered > final_hours_covered:\n",
        "    final_hours_covered = hours_covered\n",
        "\n",
        "print(final_hours_covered)\n",
        "\n"
      ]
    },
    {
      "cell_type": "markdown",
      "source": [
        "# Impractical Project #23: Ski Course Design"
      ],
      "metadata": {
        "id": "T2nRooHXFxos"
      }
    },
    {
      "cell_type": "markdown",
      "source": [
        " **Impractical Project #23: Ski Course Design**\n",
        "\n",
        "Objective: See http://www.usaco.org/index.php?page=viewproblem2&cpid=376\n",
        "\n",
        "KNOWNS\n",
        "- number of hills from 0-1000\n",
        "- height of hills from 0-100\n",
        "- difference in highest to lowest has to be less or equal than 17\n",
        "- cost x^2 units of money to change the height by x\n",
        "\n",
        "GOAL\n",
        "- change the height of the hills\n",
        "- calculate total cost\n",
        "\n",
        "SAMPLE INPUT:\n",
        "- 5 (number of hills)\n",
        "- 20 (height)\n",
        "- 4 (height)\n",
        "- 1 (height)\n",
        "- 24 (height)\n",
        "- 21 (height)\n",
        "- ... \n",
        "\n",
        "SAMPLE OUTPUT:\n",
        "- 18 (min cost of construction)\n",
        "\n",
        "PSUEDOCODE:\n",
        "- get inputs: num hills as an int and heights as a list\n",
        "- find min and max heights\n",
        "- run through ranges (min, min+17)-(max-17,max)\n",
        "  - for each hill calculate cost to get it in range\n",
        "    - hill height change ^2\n",
        "    - add to cost \n",
        "  -store cost\n",
        "  -return lowest cost\n",
        "\n"
      ],
      "metadata": {
        "id": "3ftLBcJoKV01"
      }
    },
    {
      "cell_type": "code",
      "source": [
        "num = 5\n",
        "list_of_hills = [2, 4, 20, 21, 24, 50]\n",
        "\n",
        "range_max = max(list_of_hills) \n",
        "range_min = min(list_of_hills)\n",
        "\n",
        "options_cost = []\n",
        "cost = 0\n",
        "difference = 0\n",
        "price_change = 0\n",
        "low = range_min\n",
        "high = range_min+17\n",
        "\n",
        "i = 0\n",
        "for i in range(range_min, range_max-16):\n",
        "  cost = 0\n",
        "  for hill in list_of_hills:\n",
        "    #if hill is below the range\n",
        "    if (hill < low):\n",
        "      difference = (low - hill)\n",
        "      price_change = difference*difference\n",
        "      cost += price_change\n",
        "      \n",
        "    # if hill is above the range\n",
        "    if (hill > high):\n",
        "      difference = hill - high\n",
        "      price_change = difference*difference\n",
        "      cost += price_change\n",
        "  \n",
        "  options_cost.append(cost)\n",
        "\n",
        "  low +=1\n",
        "  high +=1\n",
        "\n",
        "  i +=1\n",
        "\n",
        "final_option_low = options_cost.index(min(options_cost)) + range_min\n",
        "final_option_high = final_option_low + 17\n",
        "\n",
        "\n",
        "print(options_cost)\n",
        "print(\"the cheapest construction cost is: \", min(options_cost))\n",
        "print(\"lowest elevation is \", final_option_low, \" and the highest elevation is \", final_option_high)\n"
      ],
      "metadata": {
        "colab": {
          "base_uri": "https://localhost:8080/"
        },
        "id": "f9sPayorKWL0",
        "outputId": "2da7f603-102c-40f0-96df-aaebb7ebd859"
      },
      "execution_count": null,
      "outputs": [
        {
          "output_type": "stream",
          "name": "stdout",
          "text": [
            "[991, 918, 854, 798, 750, 710, 677, 650, 629, 614, 605, 602, 605, 614, 629, 650, 677, 710, 749, 795, 850, 915, 990, 1076, 1174, 1284, 1406, 1540, 1686, 1844, 2014, 2196]\n",
            "the cheapest construction cost is:  602\n",
            "lowest elevation is  13  and the highest elevation is  30\n"
          ]
        }
      ]
    },
    {
      "cell_type": "markdown",
      "source": [
        "# Impractical Project #24: Cow Baseball"
      ],
      "metadata": {
        "id": "p_Er2FcBaaIY"
      }
    },
    {
      "cell_type": "markdown",
      "source": [
        "Objective: See http://www.usaco.org/index.php?page=viewproblem2&cpid=359\n",
        "\n",
        "KNOWNS:\n",
        "- n cows 3 - 1000, each at position x\n",
        "- cows are grouped in groups of three\n",
        "  - the first cow throws\n",
        "  - the second cow throws at least as far but not more than twice as far\n",
        "\n",
        "GOALS: \n",
        "- find what three cows the farmer is watching\n",
        "\n",
        "PSUEDOCODE:\n",
        "- get positions and sort\n",
        "- list of combinations\n",
        "- check all groups (x,y,z)\n",
        "  - get distance of x--y\n",
        "  - get distance of y--z \n",
        "  - if (x--y)>(y--z) or (x--y)*2<(y--z)\n",
        "    - remove from a list\n",
        "- return list\n",
        " \n"
      ],
      "metadata": {
        "id": "BM8euwmEarxa"
      }
    },
    {
      "cell_type": "code",
      "source": [
        "from itertools import combinations\n",
        "\n",
        "cows = [3, 1, 10, 7, 4]\n",
        "cows.sort()\n",
        "#print(cows)\n",
        "\n",
        "list_combinations = list(combinations(cows,3))\n",
        "#print(list_combinations)\n",
        "\n",
        "possible = 0\n",
        "\n",
        "for i in list_combinations:\n",
        "  a = i[1] - i[0]\n",
        "  b = i[2] - i[1]\n",
        "  if b >= a and b <= 2*a:\n",
        "    possible += 1\n",
        "    print(i)\n",
        "\n",
        "print(\"farmer j could be watching\", possible, \"groups\")"
      ],
      "metadata": {
        "colab": {
          "base_uri": "https://localhost:8080/"
        },
        "id": "gFAOqlONasbU",
        "outputId": "2328ee14-1304-42e2-faee-a580e54ed66f"
      },
      "execution_count": null,
      "outputs": [
        {
          "output_type": "stream",
          "name": "stdout",
          "text": [
            "(1, 3, 7)\n",
            "(1, 4, 7)\n",
            "(1, 4, 10)\n",
            "(4, 7, 10)\n",
            "farmer j could be watching 4 groups\n"
          ]
        }
      ]
    },
    {
      "cell_type": "markdown",
      "source": [
        "# **DAY 8**"
      ],
      "metadata": {
        "id": "Eq2cSFBPD8_2"
      }
    },
    {
      "cell_type": "markdown",
      "source": [
        "# Impractical Project 25: Casino#"
      ],
      "metadata": {
        "id": "NUCvX4dAOjtN"
      }
    },
    {
      "cell_type": "markdown",
      "source": [
        "Objective: See https://dmoj.ca/problem/ccc00s1\n",
        "\n",
        "KNOWNS:\n",
        "- three machines played in turn\n",
        "  - 1st : wins 30 quarters every 35th time\n",
        "  - 2nd : wins 60 quarters every 100th time\n",
        "  - 3rd : wins 9 quarters ecery 10th time\n",
        "- possibility of 1-1000 quarters to start\n",
        "- n times the macine has been played when you begin\n",
        "\n",
        "GOAL: \n",
        "- calculate how many times you can play until you go broke\n",
        "\n",
        "\n",
        "PSUEDOCODE:\n",
        "- get inputs as \n",
        "- initalize money counter, play counter, machine counters\n",
        "- while you have more than 0 quarters\n",
        "  - play first machine\n",
        "    - increase machine plays\n",
        "    - if machine plays = 35\n",
        "      - increase quarters + 30\n",
        "      - reset machine count\n",
        "      - ++ play count\n",
        "  - play second machine\n",
        "    - increase machine plays\n",
        "    - if machine plays = 100\n",
        "      - increase quarters + 60\n",
        "      - reset machine count\n",
        "      - ++ play count\n",
        "  - play third machine\n",
        "    - increase machine plays\n",
        "    - if machine plays = 10\n",
        "      - increase quarters +9\n",
        "      - reset machine count\n",
        "      - ++ play count\n",
        "\n",
        "return \"martha plays\" play count \"times before shee goes broke\"\n",
        "\n"
      ],
      "metadata": {
        "id": "YHybC_smEPh5"
      }
    },
    {
      "cell_type": "code",
      "source": [
        "#quarters = 48\n",
        "quarters = int(input(\"how many quarters do you start with? \"))\n",
        "\n",
        "machine_one = 3\n",
        "#machine_one = int(input(\"how many time has machine one been played? \"))\n",
        "\n",
        "machine_two = 10\n",
        "#machine_two = int(input(\"how many time has machine two been played? \"))\n",
        "\n",
        "machine_three = 4\n",
        "#machine_three = int(input(\"how many time has machine three been played? \"))\n",
        "\n",
        "num_of_plays = 0\n",
        "\n",
        "def machine1(quarters, plays):\n",
        "  quarters -= 1\n",
        "  plays += 1\n",
        "  if plays == 35:\n",
        "    plays = 0\n",
        "    quarters += 30\n",
        "  return quarters, plays\n",
        "\n",
        "def machine2(quarters, plays):\n",
        "  quarters -= 1\n",
        "  plays += 1\n",
        "  if plays == 100:\n",
        "    plays = 0\n",
        "    quarters += 60\n",
        "    print(\"machine two hit\")\n",
        "  return quarters, plays\n",
        "\n",
        "def machine3(quarters, plays):\n",
        "  quarters -= 1\n",
        "  plays += 1\n",
        "  if plays == 10:\n",
        "    plays = 0\n",
        "    quarters += 9\n",
        "  return quarters, plays\n",
        "\n",
        "while quarters > 0:\n",
        "  quarters, machine_one = machine1(quarters,machine_one)\n",
        "  num_of_plays += 1\n",
        "  \n",
        "  if quarters == 0:\n",
        "    break\n",
        "\n",
        "  quarters, machine_two = machine2(quarters,machine_two)\n",
        "  num_of_plays += 1\n",
        "\n",
        "  if quarters == 0:\n",
        "    break\n",
        "\n",
        "  quarters, machine_three = machine3(quarters,machine_three)\n",
        "  num_of_plays += 1\n",
        "\n",
        "print (\"You can play\", num_of_plays, \"times before going broke\")\n",
        "\n",
        "##FREE DRINKS CALCULATIONS\n",
        "drinks = int((num_of_plays*7)/300)\n",
        "print(\"you get\", drinks, \"free drinks\")"
      ],
      "metadata": {
        "colab": {
          "base_uri": "https://localhost:8080/"
        },
        "id": "_FP7ic4oEPG_",
        "outputId": "991322e3-fb15-4e38-b9e8-fb970c8a29a4"
      },
      "execution_count": null,
      "outputs": [
        {
          "output_type": "stream",
          "name": "stdout",
          "text": [
            "how many quarters do you start with? 128\n",
            "machine two hit\n",
            "You can play 395 times before going broke\n",
            "you get 9 free drinks\n"
          ]
        }
      ]
    },
    {
      "cell_type": "markdown",
      "source": [
        "# Impractical Project #26: Scarfs\n",
        "\n"
      ],
      "metadata": {
        "id": "yGfplL0pNLQ5"
      }
    },
    {
      "cell_type": "markdown",
      "source": [
        "Objective: See https://dmoj.ca/problem/dmopc20c2p2\n",
        "\n",
        "KNOWNS:\n",
        "- you have M relatives\n",
        "- ith relatives wants a multicolored scarf with colors from Rs to Re\n",
        "- you have a scarf  (of length N) where every section has color Ci\n",
        "\n",
        "GOALS:\n",
        "- find what one relative can get the longest scarf\n",
        "- print out the longest possible length of a scarf\n",
        "\n",
        "PSUEDOCODE:\n",
        "- get scarf colors as a list \n",
        "- get relative and make a list of lists of their \"wants\"\n",
        "\n",
        "- check list of relvatives\n",
        "  - if Rs>Re , remove\n",
        "  - if Rs or Re > len(c) , remove\n",
        "\n",
        "- find largest length of relatives left\n",
        "- return length\n",
        "\n",
        "\n"
      ],
      "metadata": {
        "id": "1NW0UnHqOtLL"
      }
    },
    {
      "cell_type": "code",
      "source": [
        "scarf = [1, 2, 3, 4, 1, 2, 3, 4]\n",
        "relatives = [[3,2], [2,5], [1,3],[2,3]]\n",
        "\n",
        "max_length = 0\n",
        "\n",
        "for relative in relatives:\n",
        "  if relative[0] > relative[1]:\n",
        "    print(\"nope\")\n",
        "  elif relative[0] not in scarf or relative[1] not in scarf:\n",
        "  #relative[0] > len(scarf) or relative[1] > len(scarf):\n",
        "    print(\"noope\")\n",
        "  else:\n",
        "    length = relative[1] - relative[0] + 1\n",
        "    if length > max_length:\n",
        "      max_length = length\n",
        "\n",
        "print(max_length)\n"
      ],
      "metadata": {
        "colab": {
          "base_uri": "https://localhost:8080/"
        },
        "outputId": "0cb71544-6c6b-4ae3-db0b-8f59e61603f6",
        "id": "JHBKnqV9NDIi"
      },
      "execution_count": null,
      "outputs": [
        {
          "output_type": "stream",
          "name": "stdout",
          "text": [
            "3\n"
          ]
        }
      ]
    },
    {
      "cell_type": "markdown",
      "source": [
        "# Impractical Project #27: Luka's Code"
      ],
      "metadata": {
        "id": "v_dk6t_jZvuY"
      }
    },
    {
      "cell_type": "markdown",
      "source": [
        "Objective: See https://dmoj.ca/problem/coci08c3p2\n",
        "\n",
        "KNOWNS:\n",
        "- input is only the lowercase english alphabet and spaces\n",
        "- code = vowels --> 'vowel' + 'p' + \"vowel\n",
        "  - ex : paprika --> papapripikapa\n",
        "\n",
        "GOAL:\n",
        "- print out decoded message\n",
        "\n",
        "PSUEDOCODE:\n",
        "- get input\n",
        "- define alphabet string\n",
        "- for each letter im message\n",
        "  - if its a vowel remove the next two letters\n",
        "  - move on\n",
        "  \n"
      ],
      "metadata": {
        "id": "H2-5BgR0ZwPo"
      }
    },
    {
      "cell_type": "code",
      "source": [
        "alphabet = 'abcdefghijklmnopqrstuvwxyz '\n",
        "vowels = 'aeiou'\n",
        "\n",
        "encoded_message = input('please enter the coded message: ')\n",
        "#encoded_message = 'kepemipijapa'\n",
        "decoded_message = ''\n",
        "i = 0\n",
        "\n",
        "for i in range(0, len(encoded_message)):\n",
        "  if encoded_message[i] in vowels:\n",
        "    encoded_message = encoded_message[:i]+encoded_message[i+2:]\n",
        "    #print(encoded_message)\n",
        "  elif encoded_message[i] == \" \":\n",
        "    continue\n",
        "  if i == len(encoded_message)-1:\n",
        "    break\n",
        "  \n",
        "print(\"your decoded message is\",encoded_message)\n",
        "\n"
      ],
      "metadata": {
        "id": "QAwvSpqvZwoz",
        "colab": {
          "base_uri": "https://localhost:8080/"
        },
        "outputId": "db2f3248-929f-40cf-9c40-0c191937a020"
      },
      "execution_count": 1,
      "outputs": [
        {
          "output_type": "stream",
          "name": "stdout",
          "text": [
            "please enter the coded message: kepemipijapa\n",
            "your decoded message is kemija\n"
          ]
        }
      ]
    },
    {
      "cell_type": "markdown",
      "source": [
        "# DAY 9"
      ],
      "metadata": {
        "id": "UdDxEWtLMpcA"
      }
    },
    {
      "cell_type": "markdown",
      "source": [
        "# Impractical Project #28: Photoshoot"
      ],
      "metadata": {
        "id": "2-dEYVQLMt1g"
      }
    },
    {
      "cell_type": "markdown",
      "source": [
        "Objective: See http://www.usaco.org/index.php?page=viewproblem2&cpid=1227\n",
        "\n",
        "KNOWNS:\n",
        "- n cows: even number ranging from (2-10^5)\n",
        "- two breeds G and H\n",
        "- prefixes have to be even length \n",
        "\n",
        "GOALS:\n",
        "- reverse prefixes of cows to get as many G's in even positions\n",
        "- print how many reverses were done\n",
        "\n",
        "PSUEDOCODE:\n",
        "- get inputs\n",
        "- funct to : count num of g's in even spots\n",
        "  - is it s g and mod2=1\n",
        "  - if yes add one to the counter\n",
        "- funct to : reverse sections\n",
        "  -\n",
        "1. count to the last G\n",
        "- if cow next is a G move in\n",
        "- if next cow is not a g\n",
        "  - count total num of g's and num of even g's\n",
        "2. check if the difference of thee two values (num of g and num on even pos) is greater than the current num of cows in even pos\n",
        "  - if yes reverse from 1 to cow right of current cow\n",
        "\n"
      ],
      "metadata": {
        "id": "D0YV6sD1Mu4d"
      }
    },
    {
      "cell_type": "code",
      "source": [
        "#num_of_cows = 14\n",
        "cows = ['G', 'G', 'G', 'H', 'G', 'H', 'H', 'G', 'H', 'H', 'H', 'G', 'H', 'G']\n",
        "\n",
        "## THANKS BENJAMIN QI\n",
        "\n",
        "N = 14\n",
        "s = cows\n",
        " \n",
        "lst = '.'\n",
        "ans = 0\n",
        " \n",
        "for i in range(0,N,2):\n",
        "\tif s[i] != s[i+1]:\n",
        "\t\tif s[i] != lst:\n",
        "\t\t\tans += 1\n",
        "\t\t\tlst = s[i]\n",
        " \n",
        "if lst == 'H':\n",
        "\tans -= 1\n",
        " \n",
        "print(ans)"
      ],
      "metadata": {
        "colab": {
          "base_uri": "https://localhost:8080/"
        },
        "id": "zdR0VNBlMuMG",
        "outputId": "91cfa234-0b5b-47e5-f995-70116502f3e9"
      },
      "execution_count": null,
      "outputs": [
        {
          "output_type": "stream",
          "name": "stdout",
          "text": [
            "1\n"
          ]
        }
      ]
    },
    {
      "cell_type": "markdown",
      "source": [
        "# Impractical Project #29: COW Operations"
      ],
      "metadata": {
        "id": "cx5v-1iLjpsp"
      }
    },
    {
      "cell_type": "markdown",
      "source": [
        "Objective: See http://www.usaco.org/index.php?page=viewproblem2&cpid=1232\n",
        "\n",
        "KNOWNS:\n",
        "- possible operations\n",
        "  - delete two adjacent letters\n",
        "  - delete one letter and replace it the other two in any order\n",
        "\n",
        "count letters in substring\n",
        "O+W has to be even\n",
        "C+O has to be odd\n",
        "\n",
        "\n"
      ],
      "metadata": {
        "id": "DERevndqjphd"
      }
    },
    {
      "cell_type": "markdown",
      "source": [
        "cow\n",
        "\n",
        "c\n",
        "co\n",
        "cow \n",
        "o\n",
        "ow\n",
        "w\n",
        "\n",
        "ynnnyn\n",
        "\n",
        "odd# c's and even w/o always works\n",
        "1,0,0\n",
        "0,1,1\n",
        "\n",
        "- use procomputed table of answers w/ parities\n",
        "- \n",
        "\n",
        "- take the input\n",
        "- list of ['c','co', 'cow','o','ow','w']\n",
        "- take each string\n",
        "  - count instance of each letter\n",
        "  - check amount of each against the two cases\n",
        "   \n",
        "\n"
      ],
      "metadata": {
        "id": "cUbd44iYr50N"
      }
    },
    {
      "cell_type": "code",
      "source": [
        "init_string = 'cow'\n",
        "queries = ['c','co', 'cow','o','ow','w']\n",
        "\n",
        "for phrase in queries:\n",
        "  c = 0\n",
        "  o = 0\n",
        "  w = 0\n",
        "  for letter in phrase:\n",
        "    if letter == 'c':\n",
        "      c += 1\n",
        "    if letter == 'o':\n",
        "      o += 1\n",
        "    if letter == 'w':\n",
        "      w += 1\n",
        "  c = c%2\n",
        "  o = o%2 \n",
        "  w = w%2\n",
        "\n",
        "  if c == 1 and o == 0 and w == 0:\n",
        "    print('Y')\n",
        "  elif c ==0 and o ==1 and w ==1:\n",
        "    print('Y')\n",
        "  else:\n",
        "    print('N')\n"
      ],
      "metadata": {
        "id": "rXsmDU55jpKk",
        "colab": {
          "base_uri": "https://localhost:8080/"
        },
        "outputId": "6a062c8f-6a3d-40a2-8c77-f0f87171d7dd"
      },
      "execution_count": 3,
      "outputs": [
        {
          "output_type": "stream",
          "name": "stdout",
          "text": [
            "Y\n",
            "N\n",
            "N\n",
            "N\n",
            "Y\n",
            "N\n",
            "Y\n"
          ]
        }
      ]
    },
    {
      "cell_type": "markdown",
      "source": [
        "# Impractical Project #30: Ribbons"
      ],
      "metadata": {
        "id": "l2F-_P81kdNK"
      }
    },
    {
      "cell_type": "markdown",
      "source": [
        "Objective: See https://dmoj.ca/problem/dmopc17c4p1\n",
        "\n",
        "PSUEDOCODE:\n",
        "- get N and Q\n",
        "- make list of P's the length of N\n",
        "- "
      ],
      "metadata": {
        "id": "Pii46vMmkdGz"
      }
    },
    {
      "cell_type": "code",
      "source": [
        "N = 4\n",
        "Q = 3\n",
        "\n",
        "scarf = ['P'] * N\n",
        "strokes = [[0,2],[1,2],[3,4]]\n",
        "\n",
        "for stroke in strokes:\n",
        "  for i in range(stroke[0], stroke[1]):\n",
        "    scarf[i] = 'B'\n",
        "\n",
        "print(scarf)\n",
        "\n",
        "blue_area = scarf.count('B')\n",
        "purple_area = scarf.count('P')\n",
        "\n",
        "print(\"area of blue=\", blue_area, \"area of purple=\", purple_area)"
      ],
      "metadata": {
        "colab": {
          "base_uri": "https://localhost:8080/"
        },
        "outputId": "9ef453bf-f55c-40e5-b2e4-cecdc93ae7b5",
        "id": "rT_l6FtunwRW"
      },
      "execution_count": null,
      "outputs": [
        {
          "output_type": "stream",
          "name": "stdout",
          "text": [
            "['B', 'B', 'P', 'B']\n",
            "area of blue= 3 area of purple= 1\n"
          ]
        }
      ]
    },
    {
      "cell_type": "code",
      "source": [
        "N = 4\n",
        "Q = 3\n",
        "\n",
        "scarf = ['P'] * N\n",
        "strokes = [[0,2],[1,2],[3,4]]\n",
        "\n",
        "stroke_counter = 0\n",
        "\n",
        "for stroke in strokes:\n",
        "  stroke_counter += 1\n",
        "  for i in range(stroke[0], stroke[1]):\n",
        "    if stroke_counter % 2 == 0:\n",
        "      scarf[i] = 'P'\n",
        "    else:\n",
        "      scarf[i] = 'B'\n",
        "\n",
        "print(scarf)\n",
        "\n",
        "blue_area = scarf.count('B')\n",
        "purple_area = scarf.count('P')\n",
        "\n",
        "print(\"blue area=\", blue_area, \"purple area=\", purple_area)\n",
        "  "
      ],
      "metadata": {
        "colab": {
          "base_uri": "https://localhost:8080/"
        },
        "id": "u_b2SGp2kc9i",
        "outputId": "99bc3356-8420-47d2-bd12-2ba81cd56d21"
      },
      "execution_count": null,
      "outputs": [
        {
          "output_type": "stream",
          "name": "stdout",
          "text": [
            "['B', 'P', 'P', 'B']\n",
            "blue area= 2 purple area= 2\n"
          ]
        }
      ]
    }
  ]
}