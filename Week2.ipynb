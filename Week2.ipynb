{
  "nbformat": 4,
  "nbformat_minor": 0,
  "metadata": {
    "colab": {
      "name": "Week2.ipynb",
      "provenance": [],
      "authorship_tag": "ABX9TyMbKt4u0de0ypAKNxCAyprj",
      "include_colab_link": true
    },
    "kernelspec": {
      "name": "python3",
      "display_name": "Python 3"
    },
    "language_info": {
      "name": "python"
    }
  },
  "cells": [
    {
      "cell_type": "markdown",
      "metadata": {
        "id": "view-in-github",
        "colab_type": "text"
      },
      "source": [
        "<a href=\"https://colab.research.google.com/github/EllieWright13/ATLS4519/blob/main/Week2.ipynb\" target=\"_parent\"><img src=\"https://colab.research.google.com/assets/colab-badge.svg\" alt=\"Open In Colab\"/></a>"
      ]
    },
    {
      "cell_type": "markdown",
      "source": [
        "# **DAY 4**"
      ],
      "metadata": {
        "id": "8Oqoqns_H21n"
      }
    },
    {
      "cell_type": "markdown",
      "source": [
        "Impractical Project #10: Encrypting with the Reverse Cipher\n",
        "\n",
        "Objective: Write a Python program that will take a message from the user, and encrypt it using the reverse cipher.\n",
        "\n",
        "Psuedocode:\n",
        "\n",
        "get a message from user\n",
        "store characters in a string\n",
        "slice the text backwards"
      ],
      "metadata": {
        "id": "6fdueahGH9V3"
      }
    },
    {
      "cell_type": "code",
      "execution_count": 1,
      "metadata": {
        "id": "hJUm_HPeH0Eq"
      },
      "outputs": [],
      "source": [
        "#reverse cipher functions\n",
        "\n",
        "#function to reverse the message using reverse split\n",
        "def reverse_cipher(x):\n",
        "  return x[::-1]\n",
        "\n",
        "#function to reverse the message using a while loop\n",
        "def reverse_cipher_while(x):\n",
        "  i = len(text)-1\n",
        "  encrypted_message = ''\n",
        "  while i>=0:\n",
        "    encrypted_message = encrypted_message + text[i]\n",
        "    i = i-1\n",
        "  return(encrypted_message)"
      ]
    },
    {
      "cell_type": "code",
      "source": [
        "import time\n",
        "\n",
        "#get user input\n",
        "text = input(\"please enter a message to decode: \")\n",
        "\n",
        "#call and print it\n",
        "message = reverse_cipher(text)\n",
        "message_2 = reverse_cipher(message)\n",
        "\n",
        "print(message)\n",
        "print(message_2)\n"
      ],
      "metadata": {
        "colab": {
          "base_uri": "https://localhost:8080/"
        },
        "id": "OLxIwPphIC_k",
        "outputId": "a6036cff-f5f9-4a05-e7ca-7bf3dfc365cd"
      },
      "execution_count": 2,
      "outputs": [
        {
          "output_type": "stream",
          "name": "stdout",
          "text": [
            "please enter a message to decode: this is a message\n",
            "egassem a si siht\n",
            "this is a message\n"
          ]
        }
      ]
    },
    {
      "cell_type": "markdown",
      "source": [
        "Impractical Project #11: Encrypting with the Caesar Cipher\n",
        "\n",
        "Objective: Write a program that takes a message and key value from the user, and provides an encrypted message using the Caesar cipher.\n",
        "\n",
        "Psuedocode:\n",
        "\n",
        "get message and key value from the user\n",
        "remove punctuation\n",
        "create alphabet list [a,b,c...]\n",
        "positive key\n",
        "for length of message\n",
        "if its a letter - shift and replace\n",
        "if it a space or punctuation leave it\n",
        "negative key\n",
        "if its a letter - shift and replace\n",
        "if it a space or punctuation leave it"
      ],
      "metadata": {
        "id": "cEK3JUzvII3e"
      }
    },
    {
      "cell_type": "code",
      "source": [
        "#caesar cipher functions\n",
        "\n",
        "alphabet = \"ABCDEFGHIJKLMNOPQRSTUVWXYZ\"\n",
        "\n",
        "def right_shift(message,key):\n",
        "  encoded = ''\n",
        "  for letter in message:\n",
        "    if letter == ' ':\n",
        "      encoded = encoded + ' '\n",
        "    else:\n",
        "      index = alphabet.find(letter)\n",
        "      new_index = (index + key) % 26\n",
        "      new_letter = alphabet[new_index]\n",
        "      #print(new_letter)  \n",
        "      encoded = encoded + new_letter \n",
        "  return(encoded)\n",
        "\n",
        "def left_shift(message,key):\n",
        "  encoded = ''\n",
        "  for letter in message:\n",
        "    if letter == ' ':\n",
        "      encoded = encoded + ' '\n",
        "    else:\n",
        "      index = alphabet.find(letter)\n",
        "      new_index = (index + key) % 26\n",
        "      if index < 0:\n",
        "        index = len(alphabet) + key\n",
        "      new_letter = alphabet[new_index]\n",
        "      #print(new_letter)  \n",
        "      encoded = encoded + new_letter \n",
        "  return(encoded)\n"
      ],
      "metadata": {
        "id": "WFxNrvpRINsl"
      },
      "execution_count": 3,
      "outputs": []
    },
    {
      "cell_type": "code",
      "source": [
        "message = input(\"please enter a message to decode: \")\n",
        "message = message.upper()\n",
        "key = input(\"please enter they key value: \")\n",
        "key = int(key)\n",
        "\n",
        "if key < 0:\n",
        "  output = left_shift(message,key)\n",
        "else:\n",
        "  output = right_shift(message,key)\n",
        "\n",
        "print(output)"
      ],
      "metadata": {
        "colab": {
          "base_uri": "https://localhost:8080/"
        },
        "id": "BN-Oy_bKINgS",
        "outputId": "4371ca42-365e-4ca1-fcb6-e20aa002c57c"
      },
      "execution_count": 5,
      "outputs": [
        {
          "output_type": "stream",
          "name": "stdout",
          "text": [
            "please enter a message to decode: ZNOY OY G SKYYGMK\n",
            "please enter they key value: -6\n",
            "THIS IS A MESSAGE\n"
          ]
        }
      ]
    },
    {
      "cell_type": "markdown",
      "source": [
        "Impractical Project #12: Decrypt the Reverse and Caesar Ciphers\n",
        "\n",
        "Objective: Write one Python program that lets the user set which cipher they want to decrypt, and then allows them to enter the encrypted message (and key value if appropriate), then decrypts the message.\n",
        "\n",
        "Psuedocode:\n",
        "\n",
        "which type of cipher\n",
        "1 for reverse or 2 for caesar\n",
        "get a message\n",
        "run the corresponding program"
      ],
      "metadata": {
        "id": "3anfH8GKIM1x"
      }
    },
    {
      "cell_type": "code",
      "source": [
        "cipher_type = input(\"Which cipher would you like to run? Enter 1 for reverse and 2 for caesar.  \")\n",
        "cipher_type = int(cipher_type)\n",
        "message = input(\"please enter a message to decode: \")\n",
        "message = message.upper()\n",
        "\n",
        "if cipher_type == 1:\n",
        "  new_message = reverse_cipher(message)\n",
        "\n",
        "if cipher_type == 2:\n",
        "  key = input(\"please enter they key value: \")\n",
        "  key = int(key)\n",
        "  if key < 0:\n",
        "    new_message = left_shift(message,key)\n",
        "  else:\n",
        "    new_message = right_shift(message,key)\n",
        "\n",
        "print(\"your new message is:  \" + new_message)\n"
      ],
      "metadata": {
        "colab": {
          "base_uri": "https://localhost:8080/"
        },
        "id": "wOKWcMwOIcyE",
        "outputId": "c8ec5359-bf62-4169-d701-856fa24c9f3d"
      },
      "execution_count": 7,
      "outputs": [
        {
          "output_type": "stream",
          "name": "stdout",
          "text": [
            "Which cipher would you like to run? Enter 1 for reverse and 2 for caesar.  2\n",
            "please enter a message to decode: KYZJ ZJ R DVJJRXV\n",
            "please enter they key value: -17\n",
            "your new message is:  THIS IS A MESSAGE\n"
          ]
        }
      ]
    },
    {
      "cell_type": "markdown",
      "source": [
        "# **DAY 5**"
      ],
      "metadata": {
        "id": "lpywEuMZI7ky"
      }
    },
    {
      "cell_type": "markdown",
      "source": [
        "Impractical Project #13: Brute Force the Caesar Cipher\n",
        "\n",
        "Objective: Write a Python program that will take a message from the user that is encrypted using the Caesar cipher, and brute force out the answer.\n",
        "\n",
        "psuedocode:\n",
        "- get the message\n",
        "- run a loop of all keys\n"
      ],
      "metadata": {
        "id": "klksoQ58IdKp"
      }
    },
    {
      "cell_type": "code",
      "source": [
        "message = input(\"please enter a message to decode: \")\n",
        "message = message.upper()\n",
        "key = 0\n",
        "\n",
        "while key <= 26:\n",
        "  attempt = right_shift(message,key)\n",
        "  print(attempt)\n",
        "  key = key + 1\n"
      ],
      "metadata": {
        "colab": {
          "base_uri": "https://localhost:8080/"
        },
        "id": "h7Pi9nHLIdc9",
        "outputId": "8741d73b-7fc1-4ab2-adb6-a4eb7df09059"
      },
      "execution_count": 22,
      "outputs": [
        {
          "output_type": "stream",
          "name": "stdout",
          "text": [
            "please enter a message to decode: AOPZ PZ H TLZZHNL\n",
            "AOPZ PZ H TLZZHNL\n",
            "BPQA QA I UMAAIOM\n",
            "CQRB RB J VNBBJPN\n",
            "DRSC SC K WOCCKQO\n",
            "ESTD TD L XPDDLRP\n",
            "FTUE UE M YQEEMSQ\n",
            "GUVF VF N ZRFFNTR\n",
            "HVWG WG O ASGGOUS\n",
            "IWXH XH P BTHHPVT\n",
            "JXYI YI Q CUIIQWU\n",
            "KYZJ ZJ R DVJJRXV\n",
            "LZAK AK S EWKKSYW\n",
            "MABL BL T FXLLTZX\n",
            "NBCM CM U GYMMUAY\n",
            "OCDN DN V HZNNVBZ\n",
            "PDEO EO W IAOOWCA\n",
            "QEFP FP X JBPPXDB\n",
            "RFGQ GQ Y KCQQYEC\n",
            "SGHR HR Z LDRRZFD\n",
            "THIS IS A MESSAGE\n",
            "UIJT JT B NFTTBHF\n",
            "VJKU KU C OGUUCIG\n",
            "WKLV LV D PHVVDJH\n",
            "XLMW MW E QIWWEKI\n",
            "YMNX NX F RJXXFLJ\n",
            "ZNOY OY G SKYYGMK\n",
            "AOPZ PZ H TLZZHNL\n"
          ]
        }
      ]
    },
    {
      "cell_type": "markdown",
      "source": [
        "Impractical Project #14: Encrypting with the Transposition Cipher\n",
        "\n",
        "Objective: Write a program that takes a message and key value from the user, and provides an encrypted message using the transposition cipher.\n",
        "\n",
        "psuedocode:\n",
        "\n",
        "get message and key from the user\n",
        "create an array\n",
        "loop through message and store characters in the array"
      ],
      "metadata": {
        "id": "Izi2D5p-I1Qh"
      }
    },
    {
      "cell_type": "code",
      "source": [
        "# TRANSPOSITION ENCRYPTION\n",
        "import math\n",
        "\n",
        "#message = input(\"please enter a message to decode: \")\n",
        "#message = 'THIS IS A MESSAGE.'\n",
        "key = 5\n",
        "\n",
        "def trans_encrypt(key, message):\n",
        "\n",
        "  encryptedmessage = ''\n",
        "  rows = math.ceil(len(message)/key)\n",
        "  i = 0\n",
        "  while i < key:\n",
        "    j = 0\n",
        "    while j < rows:\n",
        "      value = i + (key * j)\n",
        "      if value >= len(message):\n",
        "        break\n",
        "      #print(input[value])\n",
        "      encryptedmessage += message[value]\n",
        "      j += 1\n",
        "    i += 1\n",
        "  return encryptedmessage\n",
        "\n",
        "#print(encryptedmessage)"
      ],
      "metadata": {
        "id": "opFvYteBI1fQ"
      },
      "execution_count": 23,
      "outputs": []
    },
    {
      "cell_type": "code",
      "source": [
        "# TRANSPOSITION DENCRYPTION\n",
        "\n",
        "def trans_decrypt(key, message):\n",
        "  # The transposition decrypt function will simulate the \"columns\" and\n",
        "  # \"rows\" of the grid that the plaintext is written on by using a list\n",
        "  # of strings. First, we need to calculate a few values.\n",
        "\n",
        "  # The number of \"columns\" in our transposition grid:\n",
        "  numOfColumns = int(math.ceil(len(message) / float(key)))\n",
        "  # The number of \"rows\" in our grid:\n",
        "  numOfRows = key\n",
        "  # The number of \"shaded boxes\" in the last \"column\" of the grid:\n",
        "  numOfShadedBoxes = (numOfColumns * numOfRows) - len(message)\n",
        "\n",
        "  # Each string in plaintext represents a column in the grid:\n",
        "  plaintext = [''] * numOfColumns\n",
        "\n",
        "  # The column and row variables point to where in the grid the next\n",
        "  # character in the encrypted message will go:\n",
        "  column = 0\n",
        "  row = 0\n",
        "\n",
        "  for symbol in message:\n",
        "    plaintext[column] += symbol\n",
        "    column += 1 # Point to the next column.\n",
        "\n",
        "      # If there are no more columns OR we're at a shaded box, go back\n",
        "      # to the first column and the next row:\n",
        "    if (column == numOfColumns) or (column == numOfColumns - 1 and\n",
        "      row >= numOfRows - numOfShadedBoxes):\n",
        "      column = 0\n",
        "      row += 1\n",
        "\n",
        "  return ''.join(plaintext)"
      ],
      "metadata": {
        "id": "zlxyMsyBJUax"
      },
      "execution_count": 24,
      "outputs": []
    },
    {
      "cell_type": "code",
      "source": [
        "message = 'TIMGHSEEI S.SAS  A'\n",
        "key = 5\n",
        "print(trans_decrypt(key,message))\n",
        "\n",
        "message_2 = 'THIS IS A MESSAGE.'\n",
        "key_2 = 5\n",
        "print(trans_encrypt(key_2, message_2))"
      ],
      "metadata": {
        "colab": {
          "base_uri": "https://localhost:8080/"
        },
        "id": "TbyNZlH-K2BD",
        "outputId": "22977910-d199-449e-a61b-5dde013925f5"
      },
      "execution_count": 25,
      "outputs": [
        {
          "output_type": "stream",
          "name": "stdout",
          "text": [
            "THIS IS A MESSAGE.\n",
            "TIMGHSEEI S.SAS  A\n"
          ]
        }
      ]
    },
    {
      "cell_type": "markdown",
      "source": [
        "Impractical Project #15: Encrypting with the Simple Substitution Cipher\n",
        "\n",
        "Objective: Write a program that takes a message and key from the user, and provides an encrypted message using the simple substitution cipher.\n",
        "\n",
        "psuedocode:"
      ],
      "metadata": {
        "id": "zNg3fUNGJe2z"
      }
    },
    {
      "cell_type": "code",
      "source": [
        "alphabet = \"abcdefghijklmnopqrstuvwxyz\"\n",
        "key = \"qwertyuiopasdfghjklzxcvbnm\"\n",
        "\n",
        "alphabet = alphabet.upper()\n",
        "key = key.upper()\n",
        "\n",
        "\n",
        "#text = \"this is a message\"\n",
        "#text1 = \"ZIOL OL Q DTLLQUT\"\n",
        "\n",
        "def simple_encrypt(message, key):\n",
        "  result = \"\"\n",
        "  for letter in message:\n",
        "      if letter.upper() in alphabet:\n",
        "          result += key[alphabet.find(letter.upper())]\n",
        "      else:\n",
        "          result += letter\n",
        "\n",
        "  return result\n",
        "\n",
        "def simple_decrypt(message,key):\n",
        "  result = \"\"\n",
        "  for letter in message:\n",
        "      if letter.upper() in key:\n",
        "          result += alphabet[key.find(letter.upper())]\n",
        "      else:\n",
        "          result += letter\n",
        "\n",
        "  return result\n"
      ],
      "metadata": {
        "id": "-gkN4pHLJgG9"
      },
      "execution_count": 26,
      "outputs": []
    },
    {
      "cell_type": "code",
      "source": [
        "text = input(\"please enter your message here:  \")\n",
        "key = \"qwertyuiopasdfghjklzxcvbnm\"\n",
        "key = key.upper()\n",
        "\n",
        "encoded = simple_encrypt(text,key)\n",
        "print(encoded)\n",
        "\n",
        "decoded = simple_decrypt(encoded,key)\n",
        "print(decoded)"
      ],
      "metadata": {
        "colab": {
          "base_uri": "https://localhost:8080/"
        },
        "id": "z6Iy_lJQcahx",
        "outputId": "09c3489d-3ccd-491e-c390-0786b41e0ad7"
      },
      "execution_count": 27,
      "outputs": [
        {
          "output_type": "stream",
          "name": "stdout",
          "text": [
            "please enter your message here:  this is a message\n",
            "ZIOL OL Q DTLLQUT\n",
            "THIS IS A MESSAGE\n"
          ]
        }
      ]
    },
    {
      "cell_type": "markdown",
      "source": [
        "Impractical Project #16: Decrypt the Reverse and Caesar Ciphers\n",
        "Objective: \n",
        "\n",
        "Add the ability to decrypt transposition and simple substitution to your IP#12 from yesterday.\n",
        "\n",
        "Additionally, add the ability for the user (Anthony) to encrypt in the same program using any of the four encryption methods."
      ],
      "metadata": {
        "id": "lW2WtK4KJo8o"
      }
    },
    {
      "cell_type": "code",
      "source": [
        "cipher_type = input(\"Which cipher would you like to run? Enter 1 for reverse, 2 for caesar, 3 for transposition, or 4 for substitution:  \")\n",
        "cipher_type = int(cipher_type)\n",
        "message = input(\"please enter a message to decode: \")\n",
        "message = message.upper()\n",
        "\n",
        "if cipher_type == 1:\n",
        "  new_message = reverse_cipher(message)\n",
        "\n",
        "if cipher_type == 2:\n",
        "  key = input(\"please enter the key value: \")\n",
        "  key = int(key)\n",
        "  if key < 0:\n",
        "    new_message = left_shift(message,key)\n",
        "  else:\n",
        "    new_message = right_shift(message,key)\n",
        "\n",
        "if cipher_type == 3:\n",
        "  encrypt_or_decrypt = input(\"Enter 1 for encrpytion and 2 for decryption: \")\n",
        "  encrypt_or_decrpyt = int(encrypt_or_decrpyt)\n",
        "  key = input(\"please enter the key value: \")\n",
        "  key = int(key)\n",
        "  if encrypt_or_decrypt == 1:\n",
        "    new_message = trans_encrypt(key, message)\n",
        "  if encrypt_or_decrpyt == 2:\n",
        "    new_message = trans_encrpyt(key, message)\n",
        "\n",
        "if cipher_type == 4:\n",
        "  encrypt_or_decrypt = input(\"Enter 1 for encrpytion and 2 for decryption: \")\n",
        "  encrypt_or_decrypt = int(encrypt_or_decrypt)\n",
        "  key = input(\"please enter the key: \")\n",
        "  if encrypt_or_decrypt == 1:\n",
        "    new_message = simple_encrypt(message, key)\n",
        "  if encrypt_or_decrypt == 2:\n",
        "    new_message = simple_encrypt(message, key)\n",
        "\n",
        "\n",
        "print(\"your new message is:  \" + new_message)"
      ],
      "metadata": {
        "id": "te9VQsXZJpG-"
      },
      "execution_count": null,
      "outputs": []
    },
    {
      "cell_type": "markdown",
      "source": [
        "# **DAY 6**"
      ],
      "metadata": {
        "id": "XBBao8l4Jvf3"
      }
    },
    {
      "cell_type": "markdown",
      "source": [
        "Impractical Project #17: Hacking Transposition\n",
        "\n",
        "Objective: Write a program (likely a variation of our program from IP #14) that takes some coded text and brute forces it.\n",
        "\n",
        "psuedocode:\n",
        "- "
      ],
      "metadata": {
        "id": "GEH1CUTlJ9n_"
      }
    },
    {
      "cell_type": "code",
      "source": [
        "input = 'TIMGHSEEI S.SAS  A'\n",
        "key = 5\n",
        "#print(decryptMessage(key,input))\n",
        "\n",
        "for i in range(1, len(input)):\n",
        "  print(trans_decrypt(i,input))"
      ],
      "metadata": {
        "colab": {
          "base_uri": "https://localhost:8080/"
        },
        "id": "GUFkKB8OJ91q",
        "outputId": "e7400d71-f3c8-42fd-b1a5-878c93c604d2"
      },
      "execution_count": null,
      "outputs": [
        {
          "output_type": "stream",
          "name": "stdout",
          "text": [
            "THIS IS A MESSAGE.\n",
            "TIMGHSEEI S.SAS  A\n",
            "T ISM.GSHASSE E IA\n",
            "TESIEAMISG  HS S.A\n",
            "TSSSIE. MES GIAAH \n",
            "THIS IS A MESSAGE.\n",
            "TGE S IHESA MSI.SA\n",
            "TGE SS IHESA AMSI.\n",
            "TGEISSS IHE .A AMS\n",
            "TMHEISSS IGSE .A A\n",
            "TMHEISSS AIGSE .A \n",
            "TMHEISSS  AIGSE .A\n",
            "TMHEISSAS  AIGSE .\n",
            "TMHEIS.SAS  AIGSE \n",
            "TMHEI S.SAS  AIGSE\n",
            "TMHEEI S.SAS  AIGS\n",
            "TMHSEEI S.SAS  AIG\n",
            "TMGHSEEI S.SAS  AI\n"
          ]
        }
      ]
    },
    {
      "cell_type": "markdown",
      "source": [
        "Impractical Project #18: Encrypting with the Affine Cipher\n",
        "\n",
        "Objective: Write a Python program that will take a message and two key values, and encode it using the Affine cipher\n",
        "\n",
        "psuedocode:\n",
        "- get message\n",
        "- get keys\n",
        "- check for key validity\n",
        "  - if gcd ( len(index), A ) = 1\n",
        "    - run encrpytion\n",
        "    - (a(x) + b) % len(index)\n",
        "- "
      ],
      "metadata": {
        "id": "Fvhc6mbRKHdy"
      }
    },
    {
      "cell_type": "code",
      "source": [
        "#AFFINE CIPHER ENCRPYTION\n",
        "import math\n",
        "\n",
        "alphabet_index = 'ABCDEFGHIJKLMNOPQRSTUVWXYZabcdefghijklmnopqrstuvwxyz .,!?-/$%'\n",
        "\n",
        "#get input message\n",
        "message = input(\"Pease enter a message: \")\n",
        "\n",
        "#get the first key and check validity\n",
        "keyA = input(\"Please enter the first key:  \")\n",
        "keyA = int(keyA)\n",
        "while math.gcd(keyA, len(alphabet_index)) != 1:\n",
        "  keyA = input(\" Key One not valid, please enter a new first key: \")\n",
        "  keyA = int(keyA)\n",
        "\n",
        "#get the second key\n",
        "keyB = input(\"Please enter the second key:  \")\n",
        "keyB = int(keyB)\n",
        "\n",
        "#run encryption\n",
        "def affine_encrpyt(message, key1, key2):\n",
        "  encrypted_message = ''\n",
        "  if math.gcd(key1, len(alphabet_index)) == 1:\n",
        "    for letter in message:\n",
        "      x = alphabet_index.index(letter)\n",
        "      new_x = (key1*(x) + key2) % len(alphabet_index) \n",
        "      encrypted_message += alphabet_index[new_x]\n",
        "  \n",
        "  return encrypted_message\n",
        "\n",
        "print(affine_encrpyt(message, keyA, keyB))"
      ],
      "metadata": {
        "id": "k5G_AlMPKHnf",
        "colab": {
          "base_uri": "https://localhost:8080/",
          "height": 383
        },
        "outputId": "071ecf1f-5795-4044-d9d9-81be7ce28e69"
      },
      "execution_count": 49,
      "outputs": [
        {
          "name": "stdout",
          "output_type": "stream",
          "text": [
            "Pease enter a message: This is a message!*\n",
            "Please enter the first key:  55\n",
            "Please enter the second key:  10\n"
          ]
        },
        {
          "output_type": "error",
          "ename": "ValueError",
          "evalue": "ignored",
          "traceback": [
            "\u001b[0;31m---------------------------------------------------------------------------\u001b[0m",
            "\u001b[0;31mValueError\u001b[0m                                Traceback (most recent call last)",
            "\u001b[0;32m<ipython-input-49-9026e11f3f61>\u001b[0m in \u001b[0;36m<module>\u001b[0;34m()\u001b[0m\n\u001b[1;32m     29\u001b[0m   \u001b[0;32mreturn\u001b[0m \u001b[0mencrypted_message\u001b[0m\u001b[0;34m\u001b[0m\u001b[0;34m\u001b[0m\u001b[0m\n\u001b[1;32m     30\u001b[0m \u001b[0;34m\u001b[0m\u001b[0m\n\u001b[0;32m---> 31\u001b[0;31m \u001b[0mprint\u001b[0m\u001b[0;34m(\u001b[0m\u001b[0maffine_encrpyt\u001b[0m\u001b[0;34m(\u001b[0m\u001b[0mmessage\u001b[0m\u001b[0;34m,\u001b[0m \u001b[0mkeyA\u001b[0m\u001b[0;34m,\u001b[0m \u001b[0mkeyB\u001b[0m\u001b[0;34m)\u001b[0m\u001b[0;34m)\u001b[0m\u001b[0;34m\u001b[0m\u001b[0;34m\u001b[0m\u001b[0m\n\u001b[0m",
            "\u001b[0;32m<ipython-input-49-9026e11f3f61>\u001b[0m in \u001b[0;36maffine_encrpyt\u001b[0;34m(message, key1, key2)\u001b[0m\n\u001b[1;32m     23\u001b[0m   \u001b[0;32mif\u001b[0m \u001b[0mmath\u001b[0m\u001b[0;34m.\u001b[0m\u001b[0mgcd\u001b[0m\u001b[0;34m(\u001b[0m\u001b[0mkey1\u001b[0m\u001b[0;34m,\u001b[0m \u001b[0mlen\u001b[0m\u001b[0;34m(\u001b[0m\u001b[0malphabet_index\u001b[0m\u001b[0;34m)\u001b[0m\u001b[0;34m)\u001b[0m \u001b[0;34m==\u001b[0m \u001b[0;36m1\u001b[0m\u001b[0;34m:\u001b[0m\u001b[0;34m\u001b[0m\u001b[0;34m\u001b[0m\u001b[0m\n\u001b[1;32m     24\u001b[0m     \u001b[0;32mfor\u001b[0m \u001b[0mletter\u001b[0m \u001b[0;32min\u001b[0m \u001b[0mmessage\u001b[0m\u001b[0;34m:\u001b[0m\u001b[0;34m\u001b[0m\u001b[0;34m\u001b[0m\u001b[0m\n\u001b[0;32m---> 25\u001b[0;31m       \u001b[0mx\u001b[0m \u001b[0;34m=\u001b[0m \u001b[0malphabet_index\u001b[0m\u001b[0;34m.\u001b[0m\u001b[0mindex\u001b[0m\u001b[0;34m(\u001b[0m\u001b[0mletter\u001b[0m\u001b[0;34m)\u001b[0m\u001b[0;34m\u001b[0m\u001b[0;34m\u001b[0m\u001b[0m\n\u001b[0m\u001b[1;32m     26\u001b[0m       \u001b[0mnew_x\u001b[0m \u001b[0;34m=\u001b[0m \u001b[0;34m(\u001b[0m\u001b[0mkey1\u001b[0m\u001b[0;34m*\u001b[0m\u001b[0;34m(\u001b[0m\u001b[0mx\u001b[0m\u001b[0;34m)\u001b[0m \u001b[0;34m+\u001b[0m \u001b[0mkey2\u001b[0m\u001b[0;34m)\u001b[0m \u001b[0;34m%\u001b[0m \u001b[0mlen\u001b[0m\u001b[0;34m(\u001b[0m\u001b[0malphabet_index\u001b[0m\u001b[0;34m)\u001b[0m\u001b[0;34m\u001b[0m\u001b[0;34m\u001b[0m\u001b[0m\n\u001b[1;32m     27\u001b[0m       \u001b[0mencrypted_message\u001b[0m \u001b[0;34m+=\u001b[0m \u001b[0malphabet_index\u001b[0m\u001b[0;34m[\u001b[0m\u001b[0mnew_x\u001b[0m\u001b[0;34m]\u001b[0m\u001b[0;34m\u001b[0m\u001b[0;34m\u001b[0m\u001b[0m\n",
            "\u001b[0;31mValueError\u001b[0m: substring not found"
          ]
        }
      ]
    },
    {
      "cell_type": "code",
      "source": [
        "def findModInverse(a,m):\n",
        "  if math.gcd(a,m) != 1:\n",
        "    return None\n",
        "  u1, u2, u3 = 1, 0, a\n",
        "  v1, v2, v3 = 0, 1, m\n",
        "\n",
        "  while v3 != 0:\n",
        "    q = u3 // v3\n",
        "    v1, v2, v3, u1, u2, u3 = (u1 - q * v1), (u2 - q * v2), (u3 - q * v3), v1, v2, v3\n",
        "    v1, v2, v3"
      ],
      "metadata": {
        "id": "FSLHSzyceDlB"
      },
      "execution_count": null,
      "outputs": []
    },
    {
      "cell_type": "code",
      "source": [
        "inverse_a = findModInverse(keyA, len(alphabet_index))"
      ],
      "metadata": {
        "id": "8QesRWoofQNk"
      },
      "execution_count": null,
      "outputs": []
    },
    {
      "cell_type": "code",
      "source": [
        "#AFFINE CIPHER DECRPYTION\n",
        "import math\n",
        "\n",
        "alphabet_index = 'ABCDEFGHIJKLMNOPQRSTUVWXYZabcdefghijklmnopqrstuvwxyz .,!?-/$%'\n",
        "\n",
        "#get input message\n",
        "message = input(\"Pease enter a message: \")\n",
        "keyA = 55\n",
        "keyB = 10\n",
        "\n",
        "#run decryption\n",
        "def affine_decrpyt(message, key1, key2):\n",
        "  encrypted_message = ''\n",
        "  if math.gcd(key1, len(alphabet_index)) == 1:\n",
        "    for letter in message:\n",
        "      x = alphabet_index.index(letter)\n",
        "      new_x = (inverse_a * (x - key2)) % len(alphabet_index)\n",
        "      encrypted_message += alphabet_index[new_x]\n",
        "  \n",
        "  return encrypted_message\n",
        "\n",
        "print(affine_encrpyt(message, keyA, keyB))"
      ],
      "metadata": {
        "id": "PhsCerR3U1eN"
      },
      "execution_count": null,
      "outputs": []
    },
    {
      "cell_type": "markdown",
      "source": [
        "Impractical Project #19: Encrypting with the Vigenere Cipher\n",
        "\n",
        "Objective: Write a program that takes a message and a key and uses the Vigenere cipher to encode it."
      ],
      "metadata": {
        "id": "cz6kVhQ4KHxs"
      }
    },
    {
      "cell_type": "code",
      "source": [
        "#VIGENERE CIPHER ENCRYPTION\n",
        "\n",
        "in_message = \"HAD BAD\"\n",
        "vig_key = \"CH\"\n",
        "alphabet = \"ABCDEFGHIJKLMNOPQRSTUVWXYZabcdefghijklmnopqrstuvwxyz.,?! \"\n",
        "\n",
        "def vig_encode(message, key):\n",
        "  letter_index = 0\n",
        "  translated_vig_key = []\n",
        "  encrypted = ''\n",
        "\n",
        "  for letter in key:\n",
        "    translated_vig_key.append(alphabet.find(letter))\n",
        "  \n",
        "  for letter in message:\n",
        "    k = translated_vig_key[letter_index%len(key)]\n",
        "    x = right_shift(letter,k)\n",
        "    if letter not in alphabet:\n",
        "      print(letter)\n",
        "      continue\n",
        "\n",
        "    letter_index += 1\n",
        "    encrypted += x\n",
        "    \n",
        "  return encrypted\n",
        "\n",
        "print(vig_encode(in_message, vig_key))"
      ],
      "metadata": {
        "id": "QM6stQoJKH6S",
        "colab": {
          "base_uri": "https://localhost:8080/"
        },
        "outputId": "971373bd-c260-48a9-ebc3-314fb447cb84"
      },
      "execution_count": 28,
      "outputs": [
        {
          "output_type": "stream",
          "name": "stdout",
          "text": [
            "JHF DHF\n"
          ]
        }
      ]
    },
    {
      "cell_type": "code",
      "source": [
        "#VIGENERE CIPHER DECRYPTION\n",
        "\n",
        "in_message = \"JHF DHF\"\n",
        "vig_key = \"CH\"\n",
        "alphabet = \"ABCDEFGHIJKLMNOPQRSTUVWXYZabcdefghijklmnopqrstuvwxyz.,?! \"\n",
        "\n",
        "def vig_decode(message, key):\n",
        "  letter_index = 0\n",
        "  translated_vig_key = []\n",
        "  encrypted = ''\n",
        "\n",
        "  for letter in key:\n",
        "    translated_vig_key.append(alphabet.find(letter))\n",
        "  \n",
        "  for letter in message:\n",
        "    k = translated_vig_key[letter_index%len(key)]\n",
        "    x = right_shift(letter,k*-1)\n",
        "    if letter not in alphabet:\n",
        "      print(letter)\n",
        "      continue\n",
        "\n",
        "    letter_index += 1\n",
        "    encrypted += x\n",
        "    \n",
        "  return encrypted\n",
        "\n",
        "print(vig_decode(in_message, vig_key))"
      ],
      "metadata": {
        "colab": {
          "base_uri": "https://localhost:8080/"
        },
        "id": "Y0BrYhPpneuo",
        "outputId": "e284ea60-db3b-4ff2-d74a-2e552641f095"
      },
      "execution_count": 29,
      "outputs": [
        {
          "output_type": "stream",
          "name": "stdout",
          "text": [
            "HAD BAD\n"
          ]
        }
      ]
    },
    {
      "cell_type": "markdown",
      "source": [
        "Impractical Project #20: Encrypting/Decrypting Files\n",
        "\n",
        "Objective: Write a function that allows the user to specify a file path to a text file, and the option to encrypt or decrypt it with a chosen cipher."
      ],
      "metadata": {
        "id": "GZSnACeCKICQ"
      }
    },
    {
      "cell_type": "code",
      "source": [
        ""
      ],
      "metadata": {
        "id": "zL_WvRymKITa"
      },
      "execution_count": null,
      "outputs": []
    },
    {
      "cell_type": "markdown",
      "source": [
        "Impractical Project #21: A Program to Do All the Things\n",
        "\n",
        "Objective: Create a program that allows the user to choose...\n",
        "\n",
        "Whether to upload a file or input text, \n",
        "Whether to decrypt, encrypt, or hack that text, \n",
        "What cipher to use in service of Option 2, \n",
        "Whether to return a printed string or save the output to a file, \n",
        "\n",
        "Your program should allow the user to:\n",
        "- Decrypt: All ciphers\n",
        "- Encrypt: All ciphers\n",
        "- Hack: All but affine + vigenere"
      ],
      "metadata": {
        "id": "NNW8PxfJKY1A"
      }
    },
    {
      "cell_type": "code",
      "source": [
        "# choice_one = input(\"Would you like to encrypt or decrpyt? Enter 1 for encryption and 2 for decryption:  \")\n",
        "# message = input(\"Please enter the message:  \")\n",
        "# choice_two = input(\"what type of cipher do you want to run\")\n",
        "\n",
        "print(\"Enter 1 for reverse, 2 for caesar, 3 for transposition, 4 for substitution, 5 for affine, or 6 for vigenere \")\n",
        "cipher_type = input(\"Which cipher would you like to run? Enter 1 2 3 4 5 or 6:  \")\n",
        "cipher_type = int(cipher_type)\n",
        "message = input(\"please enter the message: \")\n",
        "message = message.upper()\n",
        "\n",
        "if cipher_type == 1:\n",
        "  new_message = reverse_cipher(message)\n",
        "\n",
        "if cipher_type == 2:\n",
        "  key = input(\"please enter the key value or enter 0 to hack: \")\n",
        "  key = int(key)\n",
        "  if key < 0:\n",
        "    new_message = left_shift(message,key)\n",
        "  elif key > 0:\n",
        "    new_message = right_shift(message,key)\n",
        "  else:\n",
        "    while key <= 26:\n",
        "      attempt = right_shift(message,key)\n",
        "      print(attempt)\n",
        "      key = key + 1\n",
        "\n",
        "\n",
        "if cipher_type == 3:\n",
        "  encrypt_or_decrypt = input(\"Enter 1 for encrpytion and 2 for decryption: \")\n",
        "  encrypt_or_decrpyt = int(encrypt_or_decrypt)\n",
        "  key = input(\"please enter the key value or enter 0 to hack \")\n",
        "  key = int(key)\n",
        "  if encrypt_or_decrypt == 1:\n",
        "    new_message = trans_encrypt(key, message)\n",
        "  if encrypt_or_decrpyt == 2:\n",
        "    if key == 0:\n",
        "      for i in range(1, len(message)):\n",
        "        print(trans_decrypt(i,message))\n",
        "  else:\n",
        "    new_message = trans_decrypt(key, message)\n",
        "\n",
        "\n",
        "if cipher_type == 4:\n",
        "  encrypt_or_decrypt = input(\"Enter 1 for encrpytion and 2 for decryption: \")\n",
        "  encrypt_or_decrypt = int(encrypt_or_decrypt)\n",
        "  key = input(\"please enter the key: \")\n",
        "  if encrypt_or_decrypt == 1:\n",
        "    new_message = simple_encrypt(message, key)\n",
        "  if encrypt_or_decrypt == 2:\n",
        "    new_message = simple_encrypt(message, key)\n",
        "\n",
        "if cipher_type == 6:\n",
        "  encrypt_or_decrypt = input(\"Enter 1 for encrpytion and 2 for decryption: \")\n",
        "  encrypt_or_decrypt = int(encrypt_or_decrypt)\n",
        "  key = input(\"please enter the key: \")\n",
        "  if encrypt_or_decrypt == 1:\n",
        "    new_message = vig_encode(message, key)\n",
        "  if encrypt_or_decrypt == 2:\n",
        "    new_message = vig_decode(message, key)\n",
        "\n",
        "print(\"your new message is:  \" + new_message)\n"
      ],
      "metadata": {
        "id": "OzMrg6-MKZGr",
        "colab": {
          "base_uri": "https://localhost:8080/"
        },
        "outputId": "d4978f7c-faaf-40da-a0db-b4ec9ea5b35b"
      },
      "execution_count": 45,
      "outputs": [
        {
          "output_type": "stream",
          "name": "stdout",
          "text": [
            "Enter 1 for reverse, 2 for caesar, 3 for transposition, 4 for substitution, 5 for affine, or 6 for vigenere \n",
            "Which cipher would you like to run? Enter 1 2 3 4 5 or 6:  2\n",
            "please enter the message: this is a message\n",
            "please enter the key value or enter 0 to hack: 0\n",
            "THIS IS A MESSAGE\n",
            "UIJT JT B NFTTBHF\n",
            "VJKU KU C OGUUCIG\n",
            "WKLV LV D PHVVDJH\n",
            "XLMW MW E QIWWEKI\n",
            "YMNX NX F RJXXFLJ\n",
            "ZNOY OY G SKYYGMK\n",
            "AOPZ PZ H TLZZHNL\n",
            "BPQA QA I UMAAIOM\n",
            "CQRB RB J VNBBJPN\n",
            "DRSC SC K WOCCKQO\n",
            "ESTD TD L XPDDLRP\n",
            "FTUE UE M YQEEMSQ\n",
            "GUVF VF N ZRFFNTR\n",
            "HVWG WG O ASGGOUS\n",
            "IWXH XH P BTHHPVT\n",
            "JXYI YI Q CUIIQWU\n",
            "KYZJ ZJ R DVJJRXV\n",
            "LZAK AK S EWKKSYW\n",
            "MABL BL T FXLLTZX\n",
            "NBCM CM U GYMMUAY\n",
            "OCDN DN V HZNNVBZ\n",
            "PDEO EO W IAOOWCA\n",
            "QEFP FP X JBPPXDB\n",
            "RFGQ GQ Y KCQQYEC\n",
            "SGHR HR Z LDRRZFD\n",
            "THIS IS A MESSAGE\n",
            "your new message is:  TSS ESGH  MSAEIIA\n"
          ]
        }
      ]
    }
  ]
}